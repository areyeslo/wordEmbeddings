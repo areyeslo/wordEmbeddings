{
 "cells": [
  {
   "cell_type": "code",
   "execution_count": 1,
   "metadata": {},
   "outputs": [
    {
     "name": "stderr",
     "output_type": "stream",
     "text": [
      "C:\\Users\\arturo.reyeslopez\\AppData\\Local\\Continuum\\anaconda3\\lib\\site-packages\\gensim\\utils.py:1197: UserWarning: detected Windows; aliasing chunkize to chunkize_serial\n",
      "  warnings.warn(\"detected Windows; aliasing chunkize to chunkize_serial\")\n"
     ]
    }
   ],
   "source": [
    "import pandas as pd\n",
    "from pandas import DataFrame\n",
    "import matplotlib.pyplot as plt\n",
    "%matplotlib notebook\n",
    "import numpy as np\n",
    "import word2vec\n",
    "import re \n",
    "\n",
    "from gensim.models import Word2Vec\n",
    "from sklearn.manifold import TSNE\n",
    "from numpy import dot\n",
    "from numpy.linalg import norm\n",
    "from itertools import chain\n"
   ]
  },
  {
   "cell_type": "code",
   "execution_count": 2,
   "metadata": {},
   "outputs": [
    {
     "name": "stdout",
     "output_type": "stream",
     "text": [
      "Requirement already satisfied: spacy in c:\\users\\arturo.reyeslopez\\appdata\\local\\continuum\\anaconda3\\lib\\site-packages (2.1.8)\n",
      "Requirement already satisfied: plac<1.0.0,>=0.9.6 in c:\\users\\arturo.reyeslopez\\appdata\\local\\continuum\\anaconda3\\lib\\site-packages (from spacy) (0.9.6)\n",
      "Requirement already satisfied: thinc<7.1.0,>=7.0.8 in c:\\users\\arturo.reyeslopez\\appdata\\local\\continuum\\anaconda3\\lib\\site-packages (from spacy) (7.0.8)\n",
      "Requirement already satisfied: requests<3.0.0,>=2.13.0 in c:\\users\\arturo.reyeslopez\\appdata\\local\\continuum\\anaconda3\\lib\\site-packages (from spacy) (2.21.0)\n",
      "Requirement already satisfied: wasabi<1.1.0,>=0.2.0 in c:\\users\\arturo.reyeslopez\\appdata\\local\\continuum\\anaconda3\\lib\\site-packages (from spacy) (0.2.2)\n",
      "Requirement already satisfied: murmurhash<1.1.0,>=0.28.0 in c:\\users\\arturo.reyeslopez\\appdata\\local\\continuum\\anaconda3\\lib\\site-packages (from spacy) (1.0.2)\n",
      "Requirement already satisfied: cymem<2.1.0,>=2.0.2 in c:\\users\\arturo.reyeslopez\\appdata\\local\\continuum\\anaconda3\\lib\\site-packages (from spacy) (2.0.2)\n",
      "Requirement already satisfied: blis<0.3.0,>=0.2.2 in c:\\users\\arturo.reyeslopez\\appdata\\local\\continuum\\anaconda3\\lib\\site-packages (from spacy) (0.2.4)\n",
      "Requirement already satisfied: preshed<2.1.0,>=2.0.1 in c:\\users\\arturo.reyeslopez\\appdata\\local\\continuum\\anaconda3\\lib\\site-packages (from spacy) (2.0.1)\n",
      "Requirement already satisfied: numpy>=1.15.0 in c:\\users\\arturo.reyeslopez\\appdata\\local\\continuum\\anaconda3\\lib\\site-packages (from spacy) (1.16.2)\n",
      "Requirement already satisfied: srsly<1.1.0,>=0.0.6 in c:\\users\\arturo.reyeslopez\\appdata\\local\\continuum\\anaconda3\\lib\\site-packages (from spacy) (0.1.0)\n",
      "Requirement already satisfied: tqdm<5.0.0,>=4.10.0 in c:\\users\\arturo.reyeslopez\\appdata\\local\\continuum\\anaconda3\\lib\\site-packages (from thinc<7.1.0,>=7.0.8->spacy) (4.31.1)\n",
      "Requirement already satisfied: urllib3<1.25,>=1.21.1 in c:\\users\\arturo.reyeslopez\\appdata\\local\\continuum\\anaconda3\\lib\\site-packages (from requests<3.0.0,>=2.13.0->spacy) (1.24.1)\n",
      "Requirement already satisfied: certifi>=2017.4.17 in c:\\users\\arturo.reyeslopez\\appdata\\local\\continuum\\anaconda3\\lib\\site-packages (from requests<3.0.0,>=2.13.0->spacy) (2019.9.11)\n",
      "Requirement already satisfied: chardet<3.1.0,>=3.0.2 in c:\\users\\arturo.reyeslopez\\appdata\\local\\continuum\\anaconda3\\lib\\site-packages (from requests<3.0.0,>=2.13.0->spacy) (3.0.4)\n",
      "Requirement already satisfied: idna<2.9,>=2.5 in c:\\users\\arturo.reyeslopez\\appdata\\local\\continuum\\anaconda3\\lib\\site-packages (from requests<3.0.0,>=2.13.0->spacy) (2.8)\n"
     ]
    }
   ],
   "source": [
    "!pip install spacy"
   ]
  },
  {
   "cell_type": "code",
   "execution_count": 3,
   "metadata": {},
   "outputs": [
    {
     "name": "stdout",
     "output_type": "stream",
     "text": [
      "Requirement already satisfied: nltk in c:\\users\\arturo.reyeslopez\\appdata\\local\\continuum\\anaconda3\\lib\\site-packages (3.4)\n",
      "Requirement already satisfied: six in c:\\users\\arturo.reyeslopez\\appdata\\local\\continuum\\anaconda3\\lib\\site-packages (from nltk) (1.12.0)\n",
      "Requirement already satisfied: singledispatch in c:\\users\\arturo.reyeslopez\\appdata\\local\\continuum\\anaconda3\\lib\\site-packages (from nltk) (3.4.0.3)\n"
     ]
    }
   ],
   "source": [
    "!pip install nltk"
   ]
  },
  {
   "cell_type": "code",
   "execution_count": 4,
   "metadata": {},
   "outputs": [],
   "source": [
    "#!pip uninstall stem"
   ]
  },
  {
   "cell_type": "code",
   "execution_count": 5,
   "metadata": {},
   "outputs": [
    {
     "name": "stdout",
     "output_type": "stream",
     "text": [
      "Requirement already satisfied: word2vec in c:\\users\\arturo.reyeslopez\\appdata\\local\\continuum\\anaconda3\\lib\\site-packages (0.9.4+2.g8204e5c)\n",
      "Requirement already satisfied: numpy in c:\\users\\arturo.reyeslopez\\appdata\\local\\continuum\\anaconda3\\lib\\site-packages (from word2vec) (1.16.2)\n",
      "Requirement already satisfied: cython in c:\\users\\arturo.reyeslopez\\appdata\\local\\continuum\\anaconda3\\lib\\site-packages (from word2vec) (0.29.6)\n"
     ]
    }
   ],
   "source": [
    "!pip install word2vec"
   ]
  },
  {
   "cell_type": "code",
   "execution_count": 6,
   "metadata": {},
   "outputs": [
    {
     "name": "stderr",
     "output_type": "stream",
     "text": [
      "[nltk_data] Downloading package punkt to\n",
      "[nltk_data]     C:\\Users\\arturo.reyeslopez\\AppData\\Roaming\\nltk_data..\n",
      "[nltk_data]     .\n",
      "[nltk_data]   Package punkt is already up-to-date!\n"
     ]
    },
    {
     "data": {
      "text/plain": [
       "True"
      ]
     },
     "execution_count": 6,
     "metadata": {},
     "output_type": "execute_result"
    }
   ],
   "source": [
    "import nltk\n",
    "from nltk.corpus import stopwords\n",
    "from nltk.tokenize import word_tokenize\n",
    "from nltk.stem import PorterStemmer\n",
    "from nltk.stem import WordNetLemmatizer \n",
    "\n",
    "\n",
    "nltk.download('punkt')"
   ]
  },
  {
   "cell_type": "code",
   "execution_count": 7,
   "metadata": {},
   "outputs": [],
   "source": [
    "# From https://dictionary.cambridge.org/grammar/british-grammar/word-formation/prefixes\n",
    "english_prefixes = {\n",
    "\"anti\": \"\",    # e.g. anti-goverment, anti-racist, anti-war\n",
    "\"auto\": \"\",    # e.g. autobiography, automobile\n",
    "\"bio\": \"\",     # e.g. life, living matter\n",
    "#\"de\": \"\",      # e.g. de-classify, decontaminate, demotivate\n",
    "\"dis\": \"\",     # e.g. disagree, displeasure, disqualify\n",
    "\"down\": \"\",    # e.g. downgrade, downhearted\n",
    "\"extra\": \"\",   # e.g. extraordinary, extraterrestrial\n",
    "\"hyper\": \"\",   # e.g. hyperactive, hypertension\n",
    "#\"il\": \"\",     # e.g. illegal\n",
    "#\"im\": \"\",     # e.g. impossible\n",
    "#\"in\": \"\",     # e.g. insecure\n",
    "#\"ir\": \"\",     # e.g. irregular\n",
    "\"inter\": \"\",  # e.g. interactive, international\n",
    "\"mega\": \"\",   # e.g. megabyte, mega-deal, megaton\n",
    "\"mid\": \"\",    # e.g. midday, midnight, mid-October\n",
    "\"mis\": \"\",    # e.g. misaligned, mislead, misspelt\n",
    "\"non\": \"\",    # e.g. non-payment, non-smoking\n",
    "\"over\": \"\",  # e.g. overcook, overcharge, overrate\n",
    "\"out\": \"\",    # e.g. outdo, out-perform, outrun\n",
    "\"post\": \"\",   # e.g. post-election, post-warn\n",
    "\"pre\": \"\",    # e.g. prehistoric, pre-war\n",
    "\"pro\": \"\",    # e.g. pro-communist, pro-democracy\n",
    "#\"re\": \"\",     # e.g. reconsider, redo, rewrite\n",
    "\"semi\": \"\",   # e.g. semicircle, semi-retired\n",
    "\"sub\": \"\",    # e.g. submarine, sub-Saharan\n",
    "\"super\": \"\",   # e.g. super-hero, supermodel\n",
    "\"tele\": \"\",    # e.g. television, telephathic\n",
    "\"trans\": \"\",   # e.g. transatlantic, transfer\n",
    "\"ultra\": \"\",   # e.g. ultra-compact, ultrasound\n",
    "#\"un\": \"\",      # e.g. under-cook, underestimate\n",
    "\"up\": \"\",      # e.g. upgrade, uphill\n",
    "}"
   ]
  },
  {
   "cell_type": "code",
   "execution_count": 8,
   "metadata": {},
   "outputs": [],
   "source": [
    "import re\n",
    "from nltk.stem import PorterStemmer\n",
    "porter = PorterStemmer()"
   ]
  },
  {
   "cell_type": "code",
   "execution_count": 9,
   "metadata": {},
   "outputs": [],
   "source": [
    "def display_closestwords_tsnescatterplot(model, word, size):\n",
    "    \n",
    "    arr = np.empty((0,size), dtype='f')\n",
    "    word_labels = [word]\n",
    "\n",
    "    close_words = model.similar_by_word(word)\n",
    "\n",
    "    arr = np.append(arr, np.array([model[word]]), axis=0)\n",
    "    for wrd_score in close_words:\n",
    "        wrd_vector = model[wrd_score[0]]\n",
    "        word_labels.append(wrd_score[0])\n",
    "        arr = np.append(arr, np.array([wrd_vector]), axis=0)\n",
    "        \n",
    "    tsne = TSNE(n_components=2, random_state=0)\n",
    "    np.set_printoptions(suppress=True)\n",
    "    Y = tsne.fit_transform(arr)\n",
    "\n",
    "    x_coords = Y[:, 0]\n",
    "    y_coords = Y[:, 1]\n",
    "    plt.scatter(x_coords, y_coords)\n",
    "\n",
    "    for label, x, y in zip(word_labels, x_coords, y_coords):\n",
    "        plt.annotate(label, xy=(x, y), xytext=(0, 0), textcoords='offset points')\n",
    "    plt.xlim(x_coords.min()+0.00005, x_coords.max()+0.00005)\n",
    "    plt.ylim(y_coords.min()+0.00005, y_coords.max()+0.00005)\n",
    "    plt.show()"
   ]
  },
  {
   "cell_type": "code",
   "execution_count": 10,
   "metadata": {},
   "outputs": [],
   "source": [
    "##Get average sentence vector\n",
    "def avg_sentence_vector(words, model, num_features, index2word_set):\n",
    "    #function to average all words vectors in a given paragraph\n",
    "    featureVec = np.zeros((num_features,), dtype=\"float32\")\n",
    "    nwords = 0\n",
    "    for word in words:\n",
    "        #print(\"avg_sentence_vector word: \",word)\n",
    "        #print(\"avg_sentence_vector words: \",words)\n",
    "        #print(\"avg_sentence_vector index2word_set: \",index2word_set)\n",
    "        if any(word in s for s in index2word_set):\n",
    "            nwords = nwords+1\n",
    "            featureVec = np.add(featureVec, model[word])\n",
    "\n",
    "    if nwords>0:\n",
    "        featureVec = np.divide(featureVec, nwords)\n",
    "    \n",
    "    return featureVec"
   ]
  },
  {
   "cell_type": "code",
   "execution_count": 11,
   "metadata": {},
   "outputs": [],
   "source": [
    "def change_string(x):\n",
    "    return x.lower().replace('.', ' ').replace('-',' ').replace(\"'\", ' ').replace('/',' ').replace('&',' ').replace('(','').replace(')','').replace('?','')"
   ]
  },
  {
   "cell_type": "code",
   "execution_count": 12,
   "metadata": {},
   "outputs": [],
   "source": [
    "#def change_string(s):\n",
    "#    return re.sub(r'[^\\w\\s]','',s).lower()"
   ]
  },
  {
   "cell_type": "code",
   "execution_count": 13,
   "metadata": {},
   "outputs": [
    {
     "name": "stderr",
     "output_type": "stream",
     "text": [
      "[nltk_data] Downloading package stopwords to\n",
      "[nltk_data]     C:\\Users\\arturo.reyeslopez\\AppData\\Roaming\\nltk_data..\n",
      "[nltk_data]     .\n",
      "[nltk_data]   Package stopwords is already up-to-date!\n"
     ]
    }
   ],
   "source": [
    "import nltk\n",
    "nltk.download('stopwords')\n",
    "from nltk.corpus import stopwords"
   ]
  },
  {
   "cell_type": "code",
   "execution_count": 14,
   "metadata": {},
   "outputs": [],
   "source": [
    "# Filter out stopwords\n",
    "# Receives tokenized words\n",
    "def stop_words(word_tokens):\n",
    "    stop_words = set(stopwords.words('english'))\n",
    "    return [w for w in word_tokens if not w in stop_words]"
   ]
  },
  {
   "cell_type": "code",
   "execution_count": 15,
   "metadata": {},
   "outputs": [],
   "source": [
    "#Flatten one level of nesting\n",
    "def flatten(listOfLists):\n",
    "    return list(chain.from_iterable(listOfLists))"
   ]
  },
  {
   "cell_type": "code",
   "execution_count": 16,
   "metadata": {},
   "outputs": [],
   "source": [
    "def listOfLists(list):\n",
    "    return list(map(lambda el:[el], lst)) "
   ]
  },
  {
   "cell_type": "code",
   "execution_count": 17,
   "metadata": {},
   "outputs": [],
   "source": [
    "def stemall(tokens):\n",
    "    ps = PorterStemmer()\n",
    "    return flatten([ [ ps.stem(word) for word in line.split(\" \")] for line in tokens ])"
   ]
  },
  {
   "cell_type": "code",
   "execution_count": 18,
   "metadata": {},
   "outputs": [],
   "source": [
    "#Recives a list of words\n",
    "#Returns a list of prefixes and steam words\n",
    "def stem_prefix(company, prefixes):\n",
    "    comp=[]\n",
    "    for word in company:\n",
    "        for prefix in sorted(prefixes, key=len, reverse=True):\n",
    "            # Use subn to track the no. of substitution made.\n",
    "            # Allow dash in between prefix and root. \n",
    "            word, nsub = re.subn(\"{}[\\-]?\".format(prefix), \"\", word)\n",
    "            if nsub > 0:\n",
    "                comp.append(prefix)\n",
    "        comp.append(porter.stem(word))\n",
    "    return comp"
   ]
  },
  {
   "cell_type": "code",
   "execution_count": 19,
   "metadata": {},
   "outputs": [],
   "source": [
    "#Receives a list of words\n",
    "#Returns a list of prefixes and list of steam words\n",
    "def porter_english_plus(companiesList, prefixes=english_prefixes):\n",
    "    coList=[]\n",
    "    \n",
    "    for company in companiesList:\n",
    "        coList.append(stem_prefix(company, prefixes))\n",
    "    \n",
    "    return coList"
   ]
  },
  {
   "cell_type": "code",
   "execution_count": 20,
   "metadata": {},
   "outputs": [],
   "source": [
    "#Search new words to compare against the dataset are included in the vocabulary. \n",
    "#Otherwise, Include them to calculate vectors\n",
    "def searchVocab(words):\n",
    "    vocab=[]\n",
    "    for word in words:\n",
    "        try:\n",
    "            word2vec_model[word]\n",
    "        except:\n",
    "            vocab.append(word)\n",
    "    return vocab"
   ]
  },
  {
   "cell_type": "code",
   "execution_count": 21,
   "metadata": {},
   "outputs": [],
   "source": [
    "import word2vec"
   ]
  },
  {
   "cell_type": "code",
   "execution_count": 22,
   "metadata": {},
   "outputs": [],
   "source": [
    "#list of words\n",
    "#Clean words:\n",
    "    #1) Removing characters such as .,-,/, etc\n",
    "    #2) Lowering case\n",
    "    #3) Creating tokens\n",
    "    #4) Deleting stop words\n",
    "    #5) Separate prefixes\n",
    "    #5) Stemming tokens\n",
    "def preprocessing(words):\n",
    "    #1,2,3,4\n",
    "    tokens= list(map(stop_words,list(map(nltk.word_tokenize, list(map(lambda x: change_string(x), words))))))\n",
    "    \n",
    "    #5\n",
    "    toks= porter_english_plus(tokens)\n",
    "    \n",
    "    ps = PorterStemmer()\n",
    "    \n",
    "    #6)\n",
    "    return list(map(lambda x: [ps.stem(y) for y in x], toks))"
   ]
  },
  {
   "cell_type": "code",
   "execution_count": 23,
   "metadata": {},
   "outputs": [],
   "source": [
    "#Read dataset:\n",
    "def readFileToDataFrame(fileName):\n",
    "    return pd.read_csv(fileName, usecols = ['name'])\n"
   ]
  },
  {
   "cell_type": "code",
   "execution_count": 24,
   "metadata": {},
   "outputs": [],
   "source": [
    "#Process dataset sent as dataframe:\n",
    "def preprocess(df):\n",
    "    words=[]\n",
    "    words= df['name'].values.tolist()\n",
    "    \n",
    "    prepWords= preprocessing(words)\n",
    "    \n",
    "    prepWords= [list(filter(None, lst)) for lst in prepWords]\n",
    "    \n",
    "    data_transposed = zip(prepWords)\n",
    "    df = pd.DataFrame(data_transposed, columns=[\"name\"])\n",
    "    \n",
    "    df2 = df['name']\n",
    "    \n",
    "    return prepWords, df2"
   ]
  },
  {
   "cell_type": "code",
   "execution_count": 25,
   "metadata": {},
   "outputs": [],
   "source": [
    "def trainModel(prepWords):\n",
    "    prepWords=flatten(prepWords)\n",
    "    \n",
    "    prepWords= [i for i in prepWords if i] \n",
    "    \n",
    "    prepWords= [[el] for el in prepWords]\n",
    "    \n",
    "    #Training model using preprocessed data\n",
    "    word2vec_model = Word2Vec(prepWords,size=100, window=1, min_count=1, workers=7)\n",
    "\n",
    "    #Summarize vocabulary\n",
    "    words = list(word2vec_model.wv.vocab)\n",
    "    \n",
    "    return word2vec_model"
   ]
  },
  {
   "cell_type": "code",
   "execution_count": 26,
   "metadata": {},
   "outputs": [
    {
     "name": "stderr",
     "output_type": "stream",
     "text": [
      "C:\\Users\\arturo.reyeslopez\\AppData\\Local\\Continuum\\anaconda3\\lib\\site-packages\\ipykernel_launcher.py:12: DeprecationWarning: Call to deprecated `__getitem__` (Method will be removed in 4.0.0, use self.wv.__getitem__() instead).\n",
      "  if sys.path[0] == '':\n"
     ]
    }
   ],
   "source": [
    "df= readFileToDataFrame('name-submission-sample.csv')\n",
    "\n",
    "col_names =  ['name', 'avg_vector']\n",
    "df2 = pd.DataFrame(col_names)\n",
    "\n",
    "prepWords, df2= preprocess(df)\n",
    "\n",
    "word2vec_model= trainModel(prepWords)\n",
    "\n",
    "df['avg_vector']=df2.apply(lambda row : avg_sentence_vector(row, model=word2vec_model, num_features=100, index2word_set=set(word2vec_model.wv.index2word)).tolist())\n",
    "\n",
    "##Saving name and vector values in file\n",
    "df.to_csv('name-submission-vectors.csv',encoding='utf-8', index=False)\n",
    "\n",
    "words = list(word2vec_model.wv.vocab)\n"
   ]
  },
  {
   "cell_type": "code",
   "execution_count": 27,
   "metadata": {},
   "outputs": [
    {
     "name": "stderr",
     "output_type": "stream",
     "text": [
      "C:\\Users\\arturo.reyeslopez\\AppData\\Local\\Continuum\\anaconda3\\lib\\site-packages\\ipykernel_launcher.py:7: DeprecationWarning: Call to deprecated `__getitem__` (Method will be removed in 4.0.0, use self.wv.__getitem__() instead).\n",
      "  import sys\n"
     ]
    },
    {
     "name": "stdout",
     "output_type": "stream",
     "text": [
      "Similarity: 0.7094977927166415\n",
      "                         name  \\\n",
      "200  AIR ONE RENTAL SOLUTIONS   \n",
      "\n",
      "                                            avg_vector  similarity  \n",
      "200  [-0.0011162118753418326, -0.000350227172020822...    0.709498  \n"
     ]
    },
    {
     "name": "stderr",
     "output_type": "stream",
     "text": [
      "C:\\Users\\arturo.reyeslopez\\AppData\\Local\\Continuum\\anaconda3\\lib\\site-packages\\ipykernel_launcher.py:12: DeprecationWarning: Call to deprecated `__getitem__` (Method will be removed in 4.0.0, use self.wv.__getitem__() instead).\n",
      "  if sys.path[0] == '':\n"
     ]
    }
   ],
   "source": [
    "from scipy import spatial\n",
    "from gensim.models import KeyedVectors\n",
    "\n",
    "#ORIGINAL 4 PAWS ONLY PET SERVICE\n",
    "#get average vector for a new company\n",
    "#company = \"SMOKERY-FLURER\" #1.0\n",
    "#company = \"PAWS 4 PET SERVICE\" #Google:0.95, Word2Vec model:  1.0\n",
    "#company = \"PAWS FOR ONLY PET\" #0.80 0.77193\n",
    "#company = \"PAWS FOR ONLY PETS\" #0.80 0.77193  \n",
    "#company = \"POS FOR PET\" POS is not in the vocabulary\n",
    "#company =\"VICTORIA INSTITUTE BIO CHEMICAL\" #1.0 VICTORIA INSTITUTE BIOCHEMICAL\n",
    "#company =\"VICTORIA INSTITUTE'S BIO-CHEMICAL\"\n",
    "company = \"AIR TWO RENTAL SOLUTIONS\" #0.745764\n",
    "\n",
    "#company= \"FALLEN TRACTOR SERVICES\"#0.701912\n",
    "\n",
    "words=[]\n",
    "words.append(company)\n",
    "\n",
    "prepWords= preprocessing(words)\n",
    "\n",
    "#Before query words in vocabulary and returns the words needed to be included in the vocabulary\n",
    "prepWords=flatten(prepWords)\n",
    "\n",
    "prepWords=[i for i in prepWords if i] \n",
    "\n",
    "vocab= searchVocab(prepWords)\n",
    "\n",
    "#If needed add word to vocabulary\n",
    "if len(vocab) > 0:\n",
    "    pwords=[]\n",
    "    df= readFileToDataFrame('name-submission-sample.csv')\n",
    "    pwords, df2= preprocess(df)\n",
    "    pwords.append(vocab)\n",
    "    word2vec_model= trainModel(pwords)    \n",
    "    #Calculating average vector for each company name:\n",
    "    df['avg_vector']=df2.apply(lambda row : avg_sentence_vector(row, model=word2vec_model, num_features=100, index2word_set=set(word2vec_model.wv.index2word)).tolist())\n",
    "    #Saving name and vector values in file\n",
    "    df.to_csv('name-submission-vectors.csv',encoding='utf-8', index=False)\n",
    "\n",
    "df = pd.read_csv('name-submission-vectors.csv', usecols = ['name','avg_vector'])\n",
    "df['avg_vector']=df['avg_vector'].apply(lambda s: [float(x.strip(' []')) for x in s.split(',')])\n",
    "\n",
    "company_avg_vector = avg_sentence_vector(prepWords, model=word2vec_model, num_features=100, index2word_set=set(word2vec_model.wv.index2word))\n",
    "\n",
    "df['similarity']=df['avg_vector'].apply(lambda row : 1 - spatial.distance.cosine(row, company_avg_vector))\n",
    "\n",
    "s= df['similarity'].max()\n",
    "print(\"Similarity:\",s)\n",
    "\n",
    "df3= df.loc[df['similarity']== s]\n",
    "print(df3)\n"
   ]
  },
  {
   "cell_type": "code",
   "execution_count": 28,
   "metadata": {},
   "outputs": [
    {
     "name": "stdout",
     "output_type": "stream",
     "text": [
      "[ 1.3963638e-03  4.6399320e-04 -4.9699643e-03  2.0420838e-03\n",
      "  1.9300794e-03 -3.4739713e-03 -2.7595055e-03  2.3062478e-03\n",
      "  8.7180140e-04  4.0423698e-03  1.2479855e-03  5.8313517e-04\n",
      " -1.5383577e-03 -2.6040287e-03  1.6459640e-03 -3.8143063e-03\n",
      " -2.1353024e-03 -1.5193474e-03 -3.2203919e-03  3.6274979e-03\n",
      "  3.4296643e-03 -1.2912253e-04 -3.3287953e-03 -3.0818693e-03\n",
      " -4.4888598e-03  1.1256869e-03  3.4745364e-03  3.3288817e-03\n",
      "  2.1306251e-03 -3.0439286e-03  3.1263740e-03  4.5702513e-03\n",
      " -1.4839541e-03 -3.1438514e-03 -3.3757936e-03 -3.6420298e-03\n",
      "  1.5927656e-03  2.3743277e-03  6.8451028e-04  2.9976715e-03\n",
      " -4.4293082e-04 -1.2936372e-04  2.3245756e-03 -7.4534881e-04\n",
      "  1.8928342e-03  2.2524861e-03 -2.3959330e-03 -7.2577159e-04\n",
      "  1.8328321e-03 -2.4921345e-03 -4.9958406e-03 -4.5892545e-03\n",
      "  4.7555692e-03 -4.0869005e-03 -7.4510305e-04 -2.1703027e-03\n",
      " -8.9334435e-04 -3.8920208e-03  3.3479135e-03 -2.5414904e-03\n",
      "  2.2900642e-03 -3.4034629e-03 -3.9268075e-03 -4.9008057e-04\n",
      " -1.9636021e-03  3.9505665e-03 -5.2007026e-04  2.1822471e-03\n",
      "  4.0777735e-03 -1.8634250e-03  3.4727866e-03 -4.2520296e-03\n",
      "  3.0220806e-04  2.3971533e-03 -7.3909498e-04  2.5257256e-03\n",
      "  1.2276767e-05  1.1221628e-03  1.2504688e-03  9.3778875e-04\n",
      " -1.5480024e-05 -2.7699140e-03  4.1749752e-03  3.6941897e-03\n",
      "  1.7788196e-03  4.2782212e-03 -4.7705062e-03 -3.2224220e-03\n",
      " -2.9017874e-03  4.6392521e-03 -6.0802588e-04 -3.7720180e-03\n",
      "  3.6038405e-03 -2.6628608e-03 -1.6562422e-03  9.1548933e-04\n",
      "  2.3168426e-03  4.8159910e-03  6.0098094e-04 -2.9914821e-03]\n"
     ]
    },
    {
     "name": "stderr",
     "output_type": "stream",
     "text": [
      "C:\\Users\\arturo.reyeslopez\\AppData\\Local\\Continuum\\anaconda3\\lib\\site-packages\\ipykernel_launcher.py:1: DeprecationWarning: Call to deprecated `__getitem__` (Method will be removed in 4.0.0, use self.wv.__getitem__() instead).\n",
      "  \"\"\"Entry point for launching an IPython kernel.\n"
     ]
    }
   ],
   "source": [
    "print(word2vec_model['victoria'])"
   ]
  },
  {
   "cell_type": "code",
   "execution_count": 29,
   "metadata": {},
   "outputs": [
    {
     "name": "stdout",
     "output_type": "stream",
     "text": [
      "['r', 'f', 'n', 'contract', 'splash', 'beauti', 'studio', 'ltd', 'fabl', 'clean', 'co', 'mainland', 'tank', 'servic', 'harrison', 'develop', 'corpor', 'strate', 'scape', 'tight', 'line', 'fish', 'charter', 'westwat', 'thechimneyguy', 'chimney', '2008', 'enterpri', 'cottonwood', 'tree', 'emporium', 'westform', 'kevin', 'mitchel', 'construct', 'inc', 'inter', 'ior', 'drywood', 'initi', 'elip', 'consult', 'coal', 'valley', 'metal', 'recycl', 'greenwood', 'gourmet', 'mushroom', 'b', 'c', 'blacklin', 'form', 'chida', 'technolog', 'ward', 'up', 'gro', 'health', 'system', 'strategi', 'okonlin', 'info', 'softwar', 'l', 'dare', 'compani', 'z', 'excav', 'log', 'dj', 'pro', 'duct', 'sabiston', 'builder', 'uniqu', 'integr', 'well', 'ladner', 'storag', 'real', 'time', 'graphic', 'wrap', 'insul', 'market', 'mc', 'mainten', 'new', 'view', 'yaskar', 'sea', 'marin', 'electr', 'octan', 'help', 'hand', 'senior', 'care', 'mediar', 'dvd', 'canada', 'camprv', 'rental', 'alemb', 'heal', 'art', 'centr', 'et', 'tran', 'portat', 'abm', 'drywal', 'committ', 'strong', 'sustain', 'salmon', 'arm', 'worx', 'idealrevenu', 'affili', 'network', 'ironwood', 'perti', 'abendago', 'media', 'armi', 'novelti', 'altern', 'solut', 'marci', 'anti', 'mercl', 'heavenli', 'maid', 'h', 'lane', 'famili', 'childcar', 'omaco', 'invest', 'dominion', 'build', 'saltspr', 'island', 'home', 'electron', 'imperi', 'treasur', 'import', 'chilliwack', 'joy', 'church', 'manjit', 'parkad', 'chameleon', 'creativ', 'web', 'design', 'british', 'columbia', 'snow', 'chaser', 'glow', 'talent', 'moss', 'sologica', 'go', 'commun', 'j', 'di', 'aster', 'limit', 'legaspi', 'pre', 'exss', 'shinmar', 'westmount', 'plumb', 'heat', 'jaykel', 'eastasian', 'stone', 'fenc', 'urban', 'green', 'audiokrack', 'record', 'futiqu', 'bella', 'ray', 'cloth', 'arriva', 'partner', 'peerless', 'paint', 'ikol', '88', 'az', 'photo', 'iri', 'hou', 'societi', 'fairway', 'motion', 'bolt', 'abc', 'gum', 'remov', 'liquid', 'underground', 'enterpr', 'blackcomb', 'duction', 'citi', 'farmer', 'landscap', 'fi', 'guy', 'mortgag', 'broker', 'better', 'kool', 'nail', 'spa', 'magnum', 'sabr', 'kid', 'zone', 'kindergarten', 'school', 'heartsong', 'wholist', 'center', 'ceramica', '311', 'architectur', 'ceram', 'kaslo', 'pave', 'north', 'kootenay', 'wood', 'spruce', 'glass', 'dp', 'puremarket', 'abracadabra', 'apparel', 'shimmer', 'whole', 'earth', 'food', 'littl', 'cricket', 'daycar', 'color', 'loung', 'rink', 'turf', 'manag', 'lake', 'out', 'fitter', 'ev', 'floral', 'rainbow', 'hog', 'den', 'campground', 'int', 'namedream', 'com', 'current', 'knot', 'raisin', 'fresh', 'hire', 'hubbi', 'handyman', 'alpaca', 'vision', 'k', '9', 'oral', 'hygien', 'incorpor', 'fall', 'tractor', 'mgt', 'snowboard', 'camp', 'unikart', 'backward', 'bear', ':', 'counsel', 'hypnotiq', 'wear', 'princess', 'limousin', 'waterat', 'bayn', 'gener', 'store', 'redlin', 'lawn', 'william', 'creek', 'adventur', 'yibada', 'domin', 'mak', 'associ', 'colorado', 'joyou', 'bead', 'mount', 'pendelton', 'ventur', 'canadian', 'band', 'aid', 'dmj', 'mop', 'hypnoc', 'greenbank', 'environ', 'princ', 'rert', 'hallow', 'en', 'fest', 'clear', 'teck', 'dnr', 'g', 'gedd', 'drive', 'dive', 'coastal', 'bay', 'johnni', 'max', 'tinker', 'realti', 'tao', 'woodwork', 'trillium', 'cure', 'salt', 'air', 'two', 'hammer', 'custom', 'creation', 'gift', 'galleri', 'pandora', 'pamper', 'plea', 'centric', 'holli', 'classic', 'cater', 'titan', 'skylin', 'port', 'anna', 'pamela', 'mk', 'pat', 'bookkeep', 'answer', 'water', 'west', 'photographi', 'bounc', 'lot', 'matrix', 'carpentri', 'jill', 'bean', 'count', 'dog', 'crabbi', 'sandwich', 'blind', 'drape', 'modern', 'draperi', 'salmonberri', 'trade', 'coast', 'asset', 'ms', 'addi', 'biqu', 'stuck', 'manila', 'jamtec', 'ject', 'karoway', 'stop', 'tear', 'foundat', 'agrofood', 'farm', 'coalit', 'educ', 'peopl', 'organ', 'need', 'chand', 'motor', 'holman', 'icf', 'work', 'star', 'steel', 'sale', 'corner', 'groomer', 'agrowchem', 'pacif', 'desert', 'kitchen', 'jb', 'caribbean', 'grill', 'tag', 'bag', 'allcret', 'vita', 'aficionado', 'hold', 'corp', 'earthsign', 'cedar', 'sign', 'cawston', 'acr', 'lockwork', 'otto', 'pub', 'plu', '1', 'cash', 'hole', 'golf', 'tour', 'penticton', 'veterinari', 'hospit', 'latango', 'okanagan', 'greet', 'mix', 'thing', 'groceri', 'touch', 'meat', 'good', 'van', 'alphen', 'one', 'picturecha', 'sky', 'roof', 'knead', 'bodywork', '2006', 'btbc', 'wine', 'countri', 'comfort', 'grant', 'net', 'enjoin', 'mjp', 'sh', 'bakeri', 'ponderosa', 'equip', 'artist', 'concret', 'pure', 'function', 'footwork', 'greencrest', 'casa', 'lili', 'vacat', 'tech', 'snowcat', 'rip', 'mold', 'inspect', 'dalger', 'pohoda', 'tallyho', '!', 'univ', 'joint', 'indigo', 'therapi', 'vertic', 'girl', 'pole', 'danc', 'natur', 'bellevu', 'cafe', 'anarchi', 'cycl', 'panoram', 'bill', 'iren', 'deli', 'blue', 'moon', 'estat', 'angel', 'seren', 'ron', 'schechtel', 'jf', 'homemainten', 'geoserv', 'finn', 'optic', 'westbank', 'giesel', 'donna', 'jackson', 'decor', 'fit', 'dig', 'allur', 'accent', 'mackenzi', 'naturopath', 'clinic', 'smithson', 'auction', 'daryn', 'eng', 'marti', 'mier', 'ideal', 'data', 'secur', 'nation', 'kan', 'rise', 'sun', 'fruit', 'beneath', 'boddhi', 'alexand', 'technologist', 'somax', 'truck', 'mi', 'conduct', 'vintner', 'errand', 'innov', 'exterior', 'val', 'cooki', 'kar', 'show', 'shine', 'anoth', 'chanc', 'street', 'ministri', 'ceili', 'inn', 'gett', 'remind', 'reflexion', 'tranquil', 'massag', 'digit', 'yello', 'thunder', 'alley', 'entertain', 'drecon', 'top', 'shelf', 'auto', 'graph', 'children', 'chariti', 'sarah', 'spot', 'ehoria', 'esthet', 'boult', 'commerci', 'sunsh', 'chesher', 'cashel', 'august', 'audio', 'canyon', 'albert', 'chuck', 'renov', 'tiger', 'gdh', 'u', 'weld', 'yard', 'ape', 'make', 'right', 'iron', 'phoenix', 'okanoggin', 'barber', 'skysurf', 'skaha', 'crystalkey', 'board', 'kennel', 'love', 'connect', '420', 'firestop', 'caulk', 'lee', 'boak', 'alec', 'timeless', 'tile', 'magic', 'jonathan', 'bailey', 'dean', 'rosenk', 'tool', 'ace', 'low', 'cost', 'repair', 'jakob', 'silverit', 'lauri', 'hair', 'shopp', 'sparki', 'jone', 'accessori', 'polar', 'humbl', 'helper', 'handi', 'wing', 'son', 'qualiti', 'move', 'amodar', 'btmp', 'contstruct', 'black', 'small', 'allstar', 'window', 'fession', 'specialist', 'cin', 'event', 'zahaira', 'oasi', 'bmv', 'shale', 'tamco', 'bc', 'tribear', 'hor', 'rock', 'tack', 'shop', 'hardcor', 'cision', 'floor', 'reviv', 'side', 'squeeg', 'wash', 'sprig', 'high', 'q', 'dust', 'dancer', 'marichel', 'vineyard', 'wineri', 'standard', 'radio', 'bara', 'canadien', 'contractor', 'newcret', 'resurfac', '800', 'grape', 'restaur', 'mason', 'birthday', 'parti', 'ink', 'exssion', 'tattoo', 'hungri', 'monk', 'dead', 'antler', 'beach', 'homeown', 'ice', 'dessert', 'heliap', 'aviat', 'dawn', 'industri', 'first', 'taylor', 'made', 'daydream', 'fiberglass', 'sundial', 'bed', 'breakfast', 'colli', 'victori', 'confer', 'ga', 'stage', 'bodi', 'chiquita', 'alter', 'nichol', 'wfo', 'airborn', 'hang', 'glide', 'terrac', 'mcgunigl', 'chamberland', 'fiji', 'fashion', 'pest', 'control', 'kelli', 'pen', 'club', 'ok', 'station', 'old', 'grey', 'potteri', 'craftwork', 'nudepth', 'therapeut', 'mice', 'cartoon', 'gressiv', 'three', 'lion', 'chumley', 'stabl', 'gait', 'ride', 'martin', 'hrd', 'activ', 'live', 'inland', 'claudio', 'martinotti', 'comput', 'mpoweru', 'finnair', 'doubl', 'tribut', 'case', 'readi', 'step', 'get', 'smart', 'tax', 'lightwav', 'laser', 'skin', 'anderson', 'five', \"''\", 'fer', 'parker', 'courier', 'basket', 'feet', 'foot', 'mid', 'pyra', 'kickin', 'candl', 'cabinet', 'allison', 'ten', 'reason', 'flight', 'deck', 'amaz', 'carm', 'mulitia', 'advoc', 'turner', 'park', 'aurora', 'leap', 'detail', 'beulah', 'orchard', 'forum', 'scoil', 'rinc', 'davin', 'irish', 'longev', 'olalla', 'molli', 'aztec', 'cogbil', 'ogopogo', 'candi', 'cave', 'heart', 'amak', 'charli', 'defi', 'graviti', 'cross', 'train', 'summerland', 'deliveri', 'eagl', 'ridg', '4', 'less', 'gc', 'manufactur', 'valiant', 'brough', 'bouncer', 'pool', 'rob', 'happi', 'hour', 'der', 'stukkateur', 'restor', 'plaster', 'ed', 'wrobel', 'onguard', 'consum', 'janitori', 'singh', 'lalli', 'sarowa', 'kelowna', '468040', 'car', 'sparetim', 'glosam', 'btr', 'partnership', 'ccii', 'brophi', 'dymi', 'valleywid', 'jewel', 'houseman', 'tait', 'borso', 'pictur', 'mountain', 'angler', 'guid', 'save', 'brand', 'x', 'carlson', 'sim', 'draft', 'dosanjh', 'westsid', 'tae', 'kwon', 'goodinson', 'olga', 'nakazna', ',', 'jame', 'bryce', 'sweep', 'cs', 'final', 'job', 'site', 'cottag', 'bookstor', 'pangea', 'dee', 'artwork', 'peter', 'finish', 'bearli', 'toad', 'recraft', 'donald', 'gunn', 'indulg', 'jewelleri', 'cornerston', 'pender', 'lakesid', 'blackberri', 'pardiwala', 'mad', 'mango', 'roland', 'sport', 'blattner', 'vine', 'research', 'fisheri', 'seafood', 'sentri', 'tele', 'room', 'consign', 'eco', 'greenbrier', 'dreamstallion', 'stand', 'still', 'barn', 'burg', 'race', 'pigeon', '6537', 'felin', 'futur', 'cat', 'spring', 'unit', 'footbal', 'surf', 'kiss', 'circl', 'blade', 'clark', 'tave', 'w', 'willempj', 'pol', 'baergen', '49', 'soda', 'mini', 'donut', 'amber', 'cab', 'true', 'greenwork', 'kristi', 'academi', 'non', 'inferno', 'lawrenc', 'ross', 'playford', 'versa', 'applic', 'brendan', 'garden', 'nurseri', 'eric', 'klemm', 'jazz', 'athlet', 'watch', 'adverti', 'free', 'madrina', 'rosa', 'guest', 'spice', 'life', 'fine', 'akerman', 'ground', 'jwho', 'spr', 'exot', 'kiva', 'aerial', 'er', 'sheet', 'naturascap', 'homework', 'mike', 'toul', 'instal', 'steffani', 'kann', 'todd', 'klatt', 'caretak', 'leaf', 'morningsid', 'law', 'reynold', 'carpet', 'holsteri', 'irahvol', 'resid', 'voltag', 'over', 'head', 'stair', 'dk', 'take', 'paradigm', 'coordin', 'movi', 'theatr', 'diamond', 'fiddlework', 'publish', 'bedford', 'nikken', 'spaal', 'nest', 'squar', 'level', 'bird', 'eye', 'randal', 'emmer', 'bread', 'planet', 'bloom', 'gulf', 'tom', 'burton', 'psychotherapist', 'hackett', 'berri', 'cookbook', 'goo', 'christoph', 'rowand', 'goodenuf', 'tileset', 'sandra', 'meyer', 'mft', 'psycotherapi', 'winkl', 'savouri', 'triskel', 'forg', 'morrison', 'brown', 'red', 'ginger', 'scribe', 'quill', 'book', 'leadership', 'abund', 'friend', 'jpb', 'beverag', 'reflex', 'march', 'hare', 'workshop', 'literaci', 'chick', 'beautifi', 'ssi', 'maritim', 'ucan', 'tributor', 'uma', 'yoga', 'jo', 'trader', 'unlimit', 'radiant', 'nutrit', 'vesuviu', 'villag', 'manor', 'p', 'soilut', 'twin', 'key', 'cast', 'pearson', 'destin', 'om', 'mala', 'wilson', 'reinforc', 'big', 'hollywood', 'esl', 'bollywood', 'yarrow', 'physiotherapi', 'heel', 'sole', 'reflexolog', 'nur', 'ivan', 'rudi', 'aguirr', 'waterof', 'polym', 'moo', 'flow', 'oil', 'jomjil', 'muskwa', 'logan', 'hotshot', 'toota', 'taxi', 'glen', 'wake', 'mopster', 'musician', 'world', 'wheel', 'mileston', 'moment', 'plan', 'northern', 'light', 'pokey', 'rice', 'cece', 'pilot', 'hot', 'crewchang', 'fort', 'nelson', 'tko', 'drill', 'bit', 'ak', 'ceac', 'trevor', 'use', 'ask', 'field', 'valv', 'tremar', 'scrub', 'squad', 'women', 'teak', 'ao', '+', 'harvey', 'ssure', 'tatonka', 'mach', 'expedit', 'sikanni', 'motiv', 'thoma', 'dvorak', 'ksp', 'oilfield', 'leger', 'tripl', 'brennan', 'backho', 'e', 'boondock', 'oneshot', 'rim', 'k2', 'exposur', 'river', 'busi', 'mile', '233', 'total', 'inform', 'shadow', 'mechan', 'guloo', 'tammi', 'nobl', 'haefner', 'long', 'summer', 'krazi', 'treati', 'scott', 'crummey', 'bpc', 'someth', 'everyon', 'gwen', 'keith', 'bobcat', 'src', 'luci', 'dan', 'dettieh', 'traffic', 'dwayn', 'conveni', 'dunedin', 'minac', 'miner', 'xplorat', 'seven', 'trinket', '5th', 'smith', 'christal', 'lynx', 'ljn', 'dcb', 'ent', 'hill', 'shire', 'dgr', 'k2k', 'brad', 'murrin', 'viper', 'technic', 'izon', 'style', 'capp', 'lu', 'martial', 'jpak', 'terri', 'baker', 'warden', 'codi', 'hoath', 'gen', 'nita', 'pooch', 'lipani', 'dene', 'eten', 'evil', 'ing', 'mbc', 'shaughnessi', 'bmg', 'cess', 'bonni', 'ck', 'fornasa', 'chocol', 'shoe', 'dilligaf', 'timber', 'fork', 'ambrook', 'lana', 'lrm', 'kraze', 'king', 'next', 'best', 'tu', 'feather', 'lebreton', 'ranka', 'wed', 'dot', 'sue', 'knight', 'bruce', 'habberfield', 'plp', 'oliv', 'mclean', 'notari', 'bullet', 'nrb', 'aim', 'penney', 'edward', 'agenc', 'simpli', 'balanc', 'kare', 'jensen', 'energi', 'kaboom', 'rdg', 'millwright', 'linda', 'kendel', 'jack', 'shane', 'trailer', 'rocki', 'quick', 'lube', 'pilley', 'shuswap', 'fx', 'desper', 'housewif', 'diva', 'domest', 'way', 'dusk', 'gunga', 'din', 'tj', 'somer', 'madonna', 'offic', '``', 'critter', 'pet', 'ben', 'byrn', 'chr', 'ack', 'sled', 'man', 'icefield', 'param', 'greg', 'diemert', 'heather', 'salon', 'sbt', 'white', 'airport', 'coyot', 'ehjid', 'cho', 'gilou', 'carey', 'archi', 'dun', 'rite', 'sabl', 'bookmark', 'dsk', 'dragonfli', 'custodi', 'shimeng', 'page', 'boy', 'barinj', 'waterf', 'sweet', 'grass', 'brace', 'hubert', 'sch', 'western', 'wudang', 'taiji', 'america', 'garment', 'factori', 'dream', 'sterl', 'holm', 'father', 'evan', 'twist', 'drink', 'hidden', 'explor', 'xplor', 'rv', 'gallery4', 'ca', 'john', 'lyndia', 'terr', 'investor', 'ber', 'merchan', 'silver', 'fern', 'shern', 'engin', 'crook', 'jamal', 'afco', 'royal', 'aziz', 'powernova', 'sunni', 'stucco', 'sing', 'appl', 'gorman', 'studi', 'quizz', 'term', 'sunshin', 'coff', 'jade', 'triniti', 'korean', 'mac', 'lab', 'day', 'sheridan', 'strebor', 'post', 'swissappaloosa', 'locat', 'bula', 'v', 'tahiti', 'treat', 'cooler', 'heaven', 'sudan', 'syndic', 'mobil', 'model', 'sunwat', 'power', 'jt', 'toddler', 'trail', 'aaa', 'bu', '$', 'ine', 'grapevin', 'samberito', 'westcor', 'platinum', 'wall', 'craft', 'saturna', 'lodg', 'chrysalid', 'resourc', 'full', 'trauma', 'pedestrian', 'floorex', 'in', 'bull', 'bbq', 'rancher', 'rcom', 'anchor', '1885', 'montag', 'bell', 'margo', 'wax', 'crystal', 'gandlaay', 'schnauzer', 'archipelago', 'archaeolog', 'suncoast', 'willow', 'cour', 'skideg', 'inlet', 'allianc', 'joneki', 'word', 'faith', 'person', 'lund', 'bro', 'mir', 'mor', 'xtreme', 'sound', 'celebr', 'birth', 'kini', 'frame', 'thomson', 'astor', 'trendz', 'carlayn', 'podehl', 'sunam', 'alan', 'joe', 'vaotic', 'minor', 'fastpitch', 'gogh', 'breez', 'tip', 'point', 'werk', 'restyl', 'competit', 'sage', 'central', 'gate', 'sensei', 'learn', 'powerg', 'access', 'staybright', 'waska', 'de', 'gama', 'wigard', 'sa', 'laval', 'legaci', 'delta', 'sharaf', 'ship', 'lime', 'lotu', 'enlighten', 'sojourn', 'coach', 'rocco', 'grace', 'second', 'alli', 'bio', 'scienc', 'deacon', 'literari', 'ann', 'jardin', 'bookshop', 'geotherm', 'faq', 'troika', 'sele', 'ocean', 'yacht', 'rr', 'parellel', 'target', 'powerwash', 'flem', 'mose', 'kerr', 'wiferi', 'ag', 'gorrilla', 'gear', 'joke', 'brick', 'willborn', 'furnac', 'zena', 'redesign', 'tilburi', 'muscl', 'saga', 'golden', 'rule', 'box', 'kt', 'omax', 'financ', 'boyz', 'grillz', 'solar', 'daisi', 'hislop', 'yellow', 'cobbleston', 'silk', 'thread', 'christma', 'yardcar', 'seppio', 'woodsid', 'handz', 'glaze', 'boyd', 'omw', 'vasseur', 'rubbish', 'remedi', 'euston', 'wacki', 'canuck', 'place', 'fabric', 'cobra', 'boundari', 'manpow', 'inspir', 'employ', 'barefoot', 'dreamer', 'card', 'canex', 'organiz', 'mvp', 'uganda', 'rural', 'fund', 'apollo', 'groom', 'calidad', 'inkstain', 'artprint', 'stanton', 'wright', 'sammi', 'lm', 'specialti', 'olli', 'lectra', 'chapter', 'bath', 'rebecca', 'equi', 'deerfield', 'silverback', 'concept', 'alex', 'anythingplu', 'jgk', 'dem', 'cranial', 'sacral', 'cierra', 'chemic', 'emerald', 'global', 'logist', 'bluewat', 'informat', 'westcoast', 'motorcycl', 'atv', 'chef', 'ridgway', 'detienn', 'sd', 'bike', 'pistol', 'burn', 'roasteri', 'complet', 'wealth', 'synergi', 'kenney', 'para', 'expert', 'rehabilit', 'dynasti', 'vehicl', 'border', 'sur', 'del', 'koski', 'furneaux', 'schindler', 'artisan', 'gazebo', 'strata', 'cd', 'tummi', 'tickl', 'experi', 'choic', 'instant', 'parasol', 'bar', 'geo', '888', 'silvercor', 'shoot', 'pepper', 'optima', 'sauc', 'marinad', 'smc', 'colour', 'coat', 'hrc', 'morgan', 'height', 'dental', 'gregori', 'aquilo', 'jr', 'cooper', 'milcraft', 'healthi', 'footcar', 'eurotech', 'jmf', 'tea', 'victoryserv', 'swim', 'cool', 'papa', 'georgio', 'pizza', 'oscar', 'saltwat', 'hunter', 'redneck', 'trench', 'adelco', 'dad', 'gone', 'bad', 'ware', 'modular', 'zentek', 'sequoia', 'memori', 'manu', 'forti', 'african', 'chain', 'hope', 'fli', 'fidel', 'account', 'amaya', 'desin', 'garlic', 'effect', 'shantex', 'fraser', 'histor', 'innova', 'pot', 'sushi', 'asia', 'cathay', 'zoltan', 'aussi', 'land', 'fp', '1986', 'hydro', 'beer', 'brother', 'vk', 'kerri', 'ami', 'team', 'hello', 'amanda', 'kieron', 'ez', 'geoff', 'russel', 'independ', 'opportun', 'karin', 'erin', 'friendship', 'chantal', 'brewer', 'jess', 'empow', 'murphi', 'brittani', 'solstic', 'coral', 'robertson', 'bich', 'allah', 'paul', 'madden', 'gillian', 'adam', 'szelecz', 'jex', 'bradley', 'mani', 'sharon', 'li', 'weber', 'jane', 'gerald', 'toni', 'wai', 'hung', 'tsang', 'laura', 'dreamweav', 'great', 'council', 'advisor', 'charleyman', 'robin', 'david', 'jillian', 'mcintosh', 'leah', 'matthew', 'miracl', 'teaghan', 'pejman', 'rezai', 'cole', 'elain', 'cheung', 'rene', 'taryn', 'fanni', 'chong', 'erika', 'frostad', 'melissa', 'yaretz', 'journey', 'gelfer', 'mark', 'down', 's', 'lori', 'last', 'ryan', 'ricard', 'michel', 'hoar', 'justin', 'rachel', 'jarnel', 'dulay', 'kati', 'dylan', 'garrett', 'harri', 'annett', 'clan', 'jed', 'stace', 'safe', 'ka', 'tam', 'hilton', 'caitlin', 'macdonald', 'link', 'len', 'blair', 'marilyn', 'lifestyl', 'sunn', 'noah', 'ark', 'rabind', 'today', 'austin', 'betti', 'ki', 'kwong', 'emili', 'lauren', 'polina', 'jeremiah', 'babz', 'chula', 'lifelin', 'swan', 'piero', 'jocelyn', 'advocaci', 'sam', 'piercey', 'averag', 'shauna', 'caden', 'jason', 'chang', 'doxa', 'element', 'rancho', 'grand', 'chaco', 'chelsea', 'ashler', 'stamp', 'revamp', 'crossroad', 'grc', 'gunsl', 'sweetcret', 'kimberley', 'reflect', 'cranbrook', 'tenni', 'pdq', 'imvement', 'phosfur', '50', 'minicycl', 'modif', 'kress', 'simplic', 'deb', 'lisciou', 'perri', 'wok', 'fisher', 'liciou', 'applianc', 'flag', 'jlm', 'andrea', 'grossman', 'music', 'boot', 'strap', 'yh', 'kuk', 'woodpeck', 'deeney', 'davidson', 'emss', 'tent', 'snipe', 'dave', 'portal', 'afford', 'willi', 'weeni', 'emerg', 'medic', 'earthli', 'essenc', 'cabin', 'mari', 'lubooz', 'claypool', 'around', 'imag', 'bozz', 'hjc', 'jpl', 'micheal', 'bishop', 'intellig', 'machin', 'legend', 'tse', 'travel', 'vaccin', 'load', 'em', 'tape', 'revolut', 'acunctur', 'guidanc', 'pharaoh', 'call', 'wycliff', 'peak', 'forest', 'denni', 'clip', 'snip', 'hummel', 'cleaner', 'bullit', 'dirtyblind', 'evergreen', 'parat', 'charm', 'quilt', 'collect', 'blarchmont', 'kashuba', 'kustom', 'cmt', 'dozer', 'dirti', 'deed', 'biltong', 'boerewor', 'rang', 'reclam', 'song', 'snowdrift', 'kri', 'reimer', 'mogli', 'vacuum', 'bookrepair', 'put', 'root', 'frozen', 'meal', 'mcghee', 'built', 'tog', 'toy', 'fossil', 'ecosun', 'chri', 'ope', 'game', '627607', 'aboard', 'visual', 'dash', 'tnt', 'vend', 'binki', 'wet', 'sprinkler', 'bow', 'refrig', 'condit', 'cullum', 'movement', 'ppat', 'aarleen', 'llindsay', 'septic', 'chamfer', 'maverick', 'flander', 'dynam', 'stay', 'tint', 'walk', 'darci', 'rodney', 'molior', 'roy', 'brewbak', 'vixen', 'roger', 'c2', 'spidera', 'bootleg', 'woodcraft', 'done', 'spli', 'hawthorn', 'timberfram', 'roadsid', 'artistyx', 'cancun', 'mexican', 'oak', 'maki', 'cottl', 'siewert', 'paw', 'claw', 'scratch', 'catteri', 'afri', 'skool', 'perform', 'knowledg', 'clibster', 'materi', 'mou', 'speak', 'public', 'irrig', 'tan', 'uri', 'catcher', 'pirent', 'michael', 'receiv', 'bk', '98', 'armada', 'est', 'la', 'vie', 'hilltop', 'road', 'rayl', 'perfer', 'own', 'play', 'elev', 'splier', 'door', 'insit', 'apprai', 'exhal', 'dmea', 'packrat', 'anim', 'cracker', 'six', 'scrapbook', 'reliabl', 'gutter', 'uhuru', 'shananigan', 'neuner', 'darrel', 'luke', 'fire', 'tection', 'herb', 'stp', 'tork', 'lantern', 'festiv', 'ultim', 'flyfish', 'cabinetri', 'agroy', 'horizon', 'attic', 'bulkot', '7th', 'jen', 'munchi', 'tourism', 'pegaso', 'seller', 'kitt', 'chokecherri', 'mountainsid', 'falsework', 'ceec', 'h2optim', 'treatment', 'percut', 'rose', 'master', 'secret', 'shcountri', 'snowmobil', 'spirogyra', 'scientif', 'tri', 'ep', 'imagin', 'seawat', 'wayn', 'moritz', 'gader', 'wick', 'chan', 'granni', 'class', 'sunri', 'robert', 'elu', 'elf', 'respon', 'capabl', 'util', 'conquer', 'boat', 'recreat', 'teasin', 'campbel', 'richard', 'matteotti', 'resteraunt', 'fm', 'romanc', 'ranch', 'dyluka', 'mapl', 'forestri', 'pelleti', 'apex', 'mountech', 'dolc', 'vida', 'arrowscap', 'lanscap', 'trunk', 'secondhand', 'wildflow', 'civil', 'grizzli', 'arbourtech', 'boardman', 'zak', 'haul', 'divi', 'trict', 'justic', 'kootenaylifeenergi', 'jon', 'westgat', 'dekker', 'dyer', 'blane', 'hagn', 'rifl', 'action', 'tow', 'fritz', 'teyk', 'execut', 'della', 'pasta', 'thru', 'diner', 'westl', 'carri', 'majest', 'mustard', 'homegood', 'lunch', 'bee', 'christi', 'bigfoot', 'exsso', 'icecream', 'papp', 'shiver', 'sugar', 'yb', 'masonari', 'toe', 'devin', 'wahlstrom', 'milner', 'reel', 'unreel', 'marvin', 'mcic', 'palermo', 'sonni', 'hewko', 'gold', 'pb', 'cranberri', '2007', 'pachal', 'investig', 'vike', 'self', 'hut', 'stige', 'yuristi', 'ac', 'haworth', 'budget', 'softub', 'payrol', 'cake', 'sion', 'trish', 'wichihew', 'ty', 'col', 'cowan', 'magest', 'cozi', 'motel', 'hallgren', 'castl', 'masonri', 'daniel', 'gibb', 'greasi', 'expect', 'compo', 'pierrard', 'steven', 'wilki', 'awesometast', 'tobin', 'brian', 'elliott', 'mum', 'structur', 'quadra', 'petwerk', 'shorelin', 'lore', 'odyssey', 'cy', 'passag', 'encompass', 'coho', 'medal', 'chili', 'szechuan', 'hairart', 'dalat', 'dirt', 'buddi', 'clearanc', 'sandi', 'york', 'rbm', 'bobbi', 'hoe', 'ambru', 'primari', 'fwc', 'oper', 'wang', 'chao', 'bridgeway', 'dev', 'drop', 'doctor', 'woodi', 'blem', 'heavi', 'mckim', 'back', 'buttar', 'airmail', 'wireless', 'clay', 'counti', 'ad', 'lfb', 'jdn', 'sourc', 'handymancan', 'labour', 'clement', 'posit', 'ition', 'carmac', 'seat', 'gumption', 'rainwear', 'aken', 'radiu', 'av', 'saf', 'helipad', 'ss', 'searcher', 'northwest', 'sintco', 'canbridg', 'triplett', 'factor', 'cga', 'ballroom', 'chrysali', 'illustri', '25investmentrul', 'corsair', 'meadowbrook', 'cut', 'ejg', 'verdur', 'look', 'vote', 'vancouv', 'springwood', 'leuschner', 'melnyk', 'virtual', 'deal', 'thrift', 'pinnacl', 'safeti', 'dermaspa', 'inner', 'strength', 'path', 'elli', 'sinclair', 'foothil', 'roll', 'frontier', 'concierg', 'jej', 'bra', 'hi', 'bebe', 'natal', 'plerk', 'banyaro', 'lation', 'chemdri', 'diablo', 'colon', 'crabb', 'abucco', 'asd', 'bob', 'macadam', 'jdi', 'koi', 'japan', 'astat', 'cucina', 'dentalxss', 'laboratori', 'caveman', 'omnikron', 'hutchinson', 'graysvil', 'solid', 'code', 'yardwork', 'thindal', 'jbm', 'cfi', 'dodgeb', 'jeremi', 'lavoi', 'horticultur', 'diver', 'duck', 'file', 'date', 'asian', 'cuisin', 'tisho', 'rm', 'insur', 'shake', 'shingl', 'ramco', 'stick', 'trip', 'illumin', 'beremond', 'snack', 'dabrowski', 'tecton', 'oh', 'refresh', 'myhamlet', 'croy', 'phil', 'closet', 'unilink', 'hal', 'june', 'ductiv', 'machineri', 'dyck', 'eyekandykustom', 'dymond', 'imssionz', 'tegron', 'illsley', 'pagani', 'traco', 'imex', 'ladybug', 'amara', 'electrolysi', 'pellren', 'weston', 'special', 'tactic', 'rescu', 'eden', 'powerlin', 'atm', 'colabo', 'night', 'retreat', 'fastlan', 'dsc', 'gram', 'huggi', 'buggi', 'dyno', 'diagnost', 'tmm', 'firefight', 'holiday', 'exchang', 'darren', 'robinson', 'chine', 'english', 'bilingu', 'edulang', 'cardio', 'core', 'bootcamp', 'norseman', '3localbid', 'goliz', 'ana', 'arciniega', 'ajp', 'sandray', 'jbmc', 'tsawwassen', 'illumilandscap', 'bhr', 'spotlight', 'radek', 'phototech', 'lanark', 'bordertown', 'ayer', 'individu', 'edgewest', 'homestag', 'paccoast', 'creeksid', 'plc', 'gl', 'ambianc', 'ziggi', 'cement', 'genki', 'danger', 'helilog', 'accuracia', 'patrol', 'fusion', 'arka', 'jiafeng', 'jia', 'wei', 'spirit', 'hongyi', 'jobe', 'ssr', 'shea', 'past', 'evolut', 'click', 'success', 'bhem', 'reno', 'start', 'coso', 'wee', 'piggi', 'burkett', 'aj', 'husband', 'geek', 'belita', 'wave', '777', 'alb', 'ferrum', 'eleven', 'saber', 'puriti', 'coco', 'thhn', 'advanc', 'lock', 'everpool', 'imssion', 'crisi', 'forc', 'capit', 'mann', 'spargo', 'leo', 'beavertail', 'unicorn', 'parksvil', '3922', 'foh', 'spiritu', 'seyva', 'volunt', 'stewardship', 'leisur', 'etha', 'formosa', 'kjcl', 'olivotto', 'cheddar', 'kayak', 'tiptop', 'super', 'mart', 'uib', 'alumni', 'ackeri', 'omnip', 'pillar', 'koda', 'part', 'weight', 'loss', 'ccd', 'trio', 'chamber', 'ensembl', 'dr', 'helen', 'bertrand', 'yung', 'fu', 'suna', 'diadem', 'artcal', 'millwork', 'tropic', 'round', 'cyx', 'hee', 'ihn', 'kim', 'vanessa', 'rae', 'tigalo', 'flame', 'chicken', 'massah', 'shore', 'dolphin', 'ecorusoul', 'cultur', 'ristor', 'valu', 'nke', 'frango', 'otti', 'kook', 'taekwondo', 'encount', 'canakiwi', 'networth', 'foxi', 'foodi', 'tracer', 'worth', 'syntech', 'lauru', 'weldon', 'clearbay', 'aggreg', 'wow', 'uvc', 'shield', 'amicitia', 'highland', 'callibaeti', 'avenu', 'relat', 'lan', 'enviro', 'architext', 'buffalo', 'hellbilli', 'mjm', 'quesnel', 'abl', 'fireplac', 'seaforth', 'kramer', 'gao', 'filko', 'marbl', 'granit', 'payless', 'heena', 'dreamlab', 'replac', 'mighti', 'ascah', 'deco', 'china', 'woodhou', 'mongoo', 'enhanc', 'nu', 'rah', 'evalu', 'assess', 'edg', 'dal', 'survey', 'msm', 'refinish', 'rnz', 'jmj', 'dale', 'sexsmith', 'portabl', 'brycan', 'hanchood', 'achiev', 'arann', 'assist', '24', '7', 'sew', 'grizz', 'jenson', 'casual', 'men', 'wheatley', 'monster', 'randi', 'dawson', 'izzi', 'bouquet', 'baggag', 'handl', 'frog', 'reman', 'consortium', 'dosilak', 'cander', 'stampalici', 'barri', 'stroud', 'alofii', 'leprieur', 'cream', 'mare', 'contin', 'cowichan', 'slo', 'pitch', 'papago', 'feloni', 'appeal', 'camco', 'georg', 'lawlor', 'wire', 'hillbilli', 'elfrieda', 'town', 'pride', 'mojm', 'dat', 'acodi', 'georgia', 'agc', 'polish', 'sculli', 'cheryl', 'peebl', 'deeper', 'longer', 'poignant', 'lindsay', 'lloyd', 'johann', 'slam', 'tire', 'gemn', 'shabumi', 'jusan', 'news', 'judi', 'frostbit', 'ke', 'loader', 'stuctewsemc', 'elder', 'advisori', 'rattlesnak', 'dbx', 'talesynergi', 'spenc', 'bridg', 'eighti', '6', 'roadhou', 'bonapart', 'wingnut', 'borough', 'cowboyz', 'iskcon', 'saranagati', 'horst', 'rocksavag', 'pukaist', 'redevelop', 'krishna', 'consciou', 'sarangati', 'doorway', 'beech', 'que', 'celestin', 'mole', 'perpetuum', 'sawa', 'sjh', 'montessori', 'susan', 'licenc', 'thrill', 'mail', 'stu', 'jeff', 'jeani', 'ow', 'hlf', 'vi', '360', 'xentech', 'comox', 'carpent', 'ant', 'societ', 'ell', 'botan', 'dct', 'theudestmonkey', 'rainforest', 'guesthou', 'mzz', 'fix', 'derek', 'craig', ';', 'residenti', 'calib', 'astrolog', 'latin', 'american', 'laksakla', 'curb', 'metamorphosi', 'ablaz', 'metalart', 'leticia', 'rpw', 'daxgat', 'inhl', 'goodin', 'pti', 'sansar', 'carlton', 'tarr', 'ultra', 'ksm', 'stonewood', 'usa', 'beautiqu', 'hairstudio', 'sanctuari', 'sure', 'bring', 'honey', 'ion', 'everyday', 'adasa', 'sibayan', 'abdel', 'lampitoc', 'mag', 'laird', 'essenti', 'sicilian', 'donair', 'mr', 'falafel', 'perfect', 'fairview', 'bmor', 'gerri', 'groen', 'wit', 'end', 'loci', 'caymu', 'adco', 'lampa', 'technoshack', '15w40', 'behren', 'thompson', 'le', 'howel', 'greenleaf', 'gulizeeba', 'backpack', 'powel', 'velvet', 'volo', 'xinger', 'cherish', 'fit2sit', 'ergonom', 'jamona', 'vata', 'gf', 'heritag', '3', 'main', 'piccolissimo', 'kin', 'chung', 'png', 'finest', 'dimen', 'quintasket', 'emerson', 'trucut', 'besway', 'demolit', 'cheeki', 'penguin', 'websit', 's3', 'cj', 'eleventh', 'skr', 'pci', 'export', 'stonework', 'extrem', 'print', 'cool2sanit', 'hamilton', 'bailong', 'naton', 'villiag', 'motorsport', 'howatt', 'tonka', 'mdm', 'crui', 'labiz', 'tim', 'odd', 'gentl', 'human', 'wildlif', 'inflow', 'crazi', 'monkey', 'cmw', 'krikey', 'eflea', 'petcar', 'dark', 'nrg', 'cinderella', 'diaper', 'vibrat', 'gould', 'grasshopp', 'oz', 'musto', 'wild', 'hornbi', 'scooter', 'whitelaw', 'surfin', 'taco', 'insid', 'ladi', 'lavish', 'robyn', 'lotteri', 'saw', 'safari', 'kmt', 'nativ', 'seed', 'seamor', 'phase', 'brisson', 'forcier', 'scale', 'flurer', 'smokeri', 'payment', 'tek', 'aspir', 'mation', '2', 'pt', 'bamboo', 'luu', 'sahara', 'currenc', 'stanley', 'atlanta', 'huston', 'pamson', 'ahm', 'tucker', 'screamin', 'mimi', 'hwy33', 'basalt', 'mine', 'bartel', 'bhanot', 'send', 'stuff', 'jabk', 'amer', 'allen', 'greenhou', 'ciou', 'taf', 'lami', 'ta', 'countertop', 'gilan', 'steamwork', 'prime', 'el', 'shaddai', 'child', 'mgw', 'aluminum', 'scarlet', 'ibi', 'edmund', 'selina', 'morong', 'pavan', 'raj', 'gr', 'aleet', 'graffix', 'marion', 'con', 'taz', 'tex', 'mccloy', 'lme', 'vic', 'host', 'gibson', 'liloet', 'malaspina', 'sail', 'stoneriv', 'advi', 'brackett', 'resort', 'paintbal', 'cove', 'sechelt', 'davi', 'winsom', 'ken', 'write', 'swift', 'ekstasi', 'elllingham', 'commtech', 'insight', 'stewart', 'greenray', 'canning', 'kj', 'direct', 'inspirit', 'beework', 'oceansid', 'smardon', 'esso', 'restorx', 'flood', 'sileston', 'everyth', 'quiltmak', 'victorian', 'reci', 'hong', 'kong', 'realism', 'sander', 'eva', 'graphicsplu', 'tr', 'maplewood', 'centrepoint', 'shaper', 'ap', 'heron', 'tower', 'escap', 'rick', 'dixon', 'pipin', 'cyberdyn', 'streak', 'xlr8d', 'bo', 'eggsquisit', 'tast', 'mepa', 'instinct', 'gill', 'halfmoon', '57', 'thee', 'hood', 'aaron', 'brodi', 'sentat', 'document', 'snowbal', 'whisper', 'roller', 'beacon', 'furnish', 'jpd', 'dogpatch', 'phat', 'kat', 'mcphail', 'maptomovi', 'tide', 'bedrock', 'pa', 'kihiw', 'salamand', 'woman', 'mb', 'dancetrax', 'front', 'porch', 'doug', 'krau', 'pal', 'parcher', 'davidjam', 'artsi', 'fartsi', 'loren', 'eve', 'mill', 'worri', 'gibvey', 'empyrean', 'raven', 'winemak', 'quest', 'zen', 'keep', 'per', 'crust', 'manjari', 'shakti', 'totem', 'medicin', 'wide', 'homecar', 'thunderbolt', 'know', 'dirtbik', 'rage', 'rey', 'reyna', 'meridian', 'sita', 'fractal', 'fleme', 'lucent', 'film', 'video', 'morn', 'newlett', 'lallybug', 'quarter', 'gardner', 'pinfold', 'nygaard', 'spec', 'cabana', 'hardwood', 'gratitud', 'boyc', 'sherlock', 'halcyon', 'puremot', 'mind', 'mama', 'weavewood', 'hook', 'silvey', 'ra', 'nrp', 'lodestar', 'holmesl', 'tyex', 'finelin', 'etiquett', 'mtb', 'voic', '5', 'summerhil', 'patterson', 'empir', 'thank', 'embellish', 'christian', 'librari', 'reach', 'tanglewood', 'tec', 'ryde', 'panic', 'ruff', 'potter', 'swiss', 'abet', 'tilli', 'galley', 'alway', 'fandango', 'thai', 'porter', 'nine', 'ninefour', '94', 'seawal', 'sodbust', 'smile', 'prf', 'moonri', 'azenya', 'pearl', 'dni', 'echo', 'audiolog', 'pawprint', 'clari', 'handcraft', 'herbal', 'marian', 'ascent', 'perfum', 'mt', 'boss', 'clearwat', 'reed', 'accommod', 'sc', 'a1a', 'kasan', 'mccarthi', 'metaltech', 'so', 'storey', 'welcom', 'abel', 'edgar', 'rain', 'barbershop', 'gel', 'ou', 'nailz', 'savi', 'hatheril', 'peac', 'grimm', 'hemp', 'dillon', 'tymax', 'hauer', 'magazin', 'carlberg', 'varney', 'amilia', 'flap', 'showhom', 'reetz', 'alpin', 'huckleberri', 'eastley', 'aircraft', 'rd', 'hack', 'mote', 'hwi', '101', 'stubb', 'lucid', 'karen', 'bozak', 'teach', 'tmj', 'orcateck', 'skookum', 'greenbridg', 'benchland', 'cam', 'forrest', 'strait', 'lemonad', 'boatwork', 'kohuch', 'dw', 'escendo', 'gaia', 'fair', 'aquaflow', 'howe', 'dmsm', 'mermaid', 'doak', 'jmac', 'cree', 'hunnisett', 'verac', 'rotari', 'stardust', 'hide', 'away', 'munif', 'metro', 'amalgam', 'remot', 'morf', 'pega', 'brar', 'swissa', 'mai', 'jer', 'tyme', 'devenish', 'tahsi', 'peng', 'wu', 'honeya', 'fastfood', 'sara', 'textil', 'bharat', 'golestan', 'anselmo', 'excit', 'amar', 'karam', 'kwick', 'pick', 'blc', 'aah', 'contain', '36', 'primo', 'salo', 'sonrisa', 'gloria', 'silvacret', '20', 'jamilda', 'chasal', 'kinkela', 'abba', 'juan', 'rio', 'four', 'eben', 'ezer', 'francisco', 'bailli', 'zubyk', 'rattl', 'babi', 'yi', 'cheng', 'sen', 'ho', 'dressmak', 'dunfield', 'tara', 'marmar', 'flex', 'castillo', 'bruno', 'jahan', 'plateau', 'rustic', 'crespo', 'shark', 'taper', 'tenathma', 'nan', 'na', 'etana', 'kima', 'flower', 'tahltan', 'tonza', 'juli', 'ursu', 'babin', 'whitey', 'lewi', 'miller', 'equissag', 'wonder', 'priestli', 'cattl', 'likkel', 'tapadera', 'aborigin', 'wholes', 'wildwood', 'bibl', 'lonewolf', 'playhou', 'rocker', 'occa', 'deschen', 'hanson', 'noreen', 'pine', 'cougar', 'sparkxx', 'windshield', 'tanta', 'lina', 'posal', 'rynet', 'anyway', 'bansh', 'lo', 'clearview', 'pleskimo', 'jacquelin', 'fast', 'nasti', 'forb', 'epsilon', 'stylecraft', 'yak', 'mega', 'mickey', 'petkau', 'jimmi', 'yellowhead', 'brinor', 'pin', 'dreamlin', 'econom', 'duncan', 'brandi', 'creat', 'rich', 'retail', 'tribal', 'paddl', 'niiwookkeyaa', 'dri', 'forev', 'bulkley', 'silvert', 'skeena', 'watersh', 'conserv', 'hazelton', 'wolverin', 'hockey', 'poplar', 'larilo', 'stockmen', 'lorn', 'spooner', 'junip', 'flat', 'rate', 'kermod', 'speedi', 'hunt', 'ashcroft', 'opera', 'jacqu', 'revel', 'fischer', 'hay', 'arrow', 'kelley', 'amala', 'widow', 'feed', 'trough', 'tal', 'kwb', 'task', 'loon', 'fab', 'basic', 'lodestrik', 'lp', 'mower', 'dejh', 'fixal', 'kestrel', 'vayven', 'punjabi', 'sidewalk', 'moneyla', 'xss', 'cycomm', 'lakeview', 'blackwat', 'absolut', 'doherti', 'cr', 'plane', 'far', 'anmol', 'namasta', 'bacabon', 'hotori', 'ag47', 'mexi', 'east', 'measur', 'tomic', 'lace', 'ness', 'maureen', 'maja', 'rodica', 'rafter', 'froe', 'wind', 'brain', 'injuri', 'eat', 'elmquist', 'pass', 'gm', 'type', 'lakefront', 'nedoat', 'hereditari', 'chief', 'tabor', 'stack', 'knc', 'asher', 'mayn', 'ziler', 'lmb', 'gypsi', 'tabl', 'martel', 'auriga', 'dvn', 'sissym', 'acoint', 'ver', 'wilder', 'polytex', 'nechako', 'slow', 'brent', 'stringer', 'casey', 'ski', 'furnitur', 'giant', 'qball', 'krg', 'diversifi', 'saddl', 'chiropract', 'quad', 'chardon', 'sundbi', 'philip', 'zacharia', 'nooski', 'ndn', 'rosi', '0506', 'crash', 'burban', 'signatur', 'vanderhoof', 'turn', 'skill', 'summit', 'sunset', 'bonsai', 'run', 'wolf', 'kidz', 'inspiratek', 'bodimag', 'avedyn', 'holist', 'masteri', 'computrend', 'wanab', 'testawich', 'victoria', 'railway', 'mystic', 'jag', 'maison', 'stickleback', 'dogz', 'sidium', 'klipila', 'starfish', 'bistro', 'quantum', 'rest', 'assur', 'respit', 'meadow', 'retro', 'spect', 'granbi', 'ecoheritag', 'elkhorn', 'break', 'pane', 'mirror', 'earli', 'year', 'beyond', 'sider', 'alaythia', 'josi', 'jagger', 'isleworth', 'reserv', 'cascadia', 'mali', 'jenpar', 'terra', 'manifest', 'barwood', 'mactiv', 'fuel', 'saver', 'von', 'dutch', 'divin', 'rgc', 'stitch', 'optim', 'esellut', 'jmg', 'packag', 'flatearth', 'impact', 'on', 'tempo', 'sadler', 'granboi', 'caregiv', 'eagel', 'gslee', 'allegi', 'cbj', 'season', 'pharmaci', 'jlp', 'grade', 'oddbal', 'canroc', 'montagna', 'advic', 'waypoint', 'odc', 'perci', 'zrnicaru', 'reher', 'mh', 'embroideri', 'js', 'boonen', 'maxwel', 'area', '666', 'electro', 'lk', 'stud', 'norburg', 'veit', 'goaltend', 'instruct', 'fluid', 'mentor', 'seri', 'jlh', 'kaizen', 'semper', 'octagon', 'circa', 'cldale', 'hofer', 'influx', 'beatrix', 'ma', 'oyama', 'kyokushin', 'karat', '3element', 'clayton', 'bridal', 'terravag', 'strateg', 'kit', 'pacificmarbl', 'bene', 'kang', 'exit', 'canata', 'aristotl', 'veloc', 'biscotti', 'ossi', 'panduro', 'gardenia', 'dc', 'darwin', 'cabrera', 'jcv', 'tayrona', 'condor', 'guarani', 'smarton', 'idl', 'kg', 'nicki', 'escudero', 'aguib', 'monarch', 'rooter', 'sewag', 'pump', 'hound', 'mouser', 'riversid', 'nik', 'nak', 'jj', 'creston', 'ridgelin', 'fasten', 'riverview', 'blacktail', 'soapwork', 'sorenson', 'roman', 'pyro', 'jalyn', 'sutcliff', 'vista', 'cherri', 'grower', 'penner', 'doyl', 'lumber', 'galsko', 'sunk', 'yourmudd', 'concert', 'gospel', 'fellowship', 'silverock', 'camel', 'milton', 'sheppard', 'retrorigin', 'idea', 'nazcam', 'playin', 'buy', 'stellar', 'drayag', 'soccer', 'riteway', 'traxx', 'nightclub', 'malibu', 'dart', 'keldsen', 'iceberg', 'maria', 'capelo', 'client', 'hebert', 'refac', 'dynastar', 'daybreak', 'rdt', 'ari', 'skate', 'jsmit', 'enerco', 'scoop', 'traci', 'rehab', 'dasilva', 'cinnamon', 'hornet', 'rockheight', 'pond', 'watersport', 'hordal', 'getaway', 'margita', 'pedi', 'wagon', 'fabbi', 'dutchman', 'princeton', 'stitcheri', 'peach', 'lpburbidg', 'brokerag', 'kettl', 'kcm', 'deep', 'similkameen', 'worrenberg', 'juic', 'cidr', 'keremeo', 'petit', 'enfanc', 'ecol', 'entr', 'lac', 'nemco', 'peel', 'let', 'mow', 'lawncar', 'km', 'linton', 'beachwear', 'bare', 'bulldog', 'paulin', 'valentini', 'purr', 'fect', 'sit', 'gamerz', 'houseboat', 'yorkshir', 'ronin', 'springer', 'gymnast', 'ranchtot', 'rt', 'cutter', 'polypha', 'option', 'apexoo', 'short', 'stori', 'dili', 'thew', 'rcv', 'kaleden', 'vital', 'bite', 'delight', 'pastri', 'etc', 'cook', 'sjc', 'nomad', 'remodel', 'navig', 'ferni', 'op', 'ralph', 'beaver', 'sissonscrochet4u', 'cariboo', 'powderpuff', 'daili', 'grind', 'we', 'polyfact', 'zilinski', 'broom', 'extra', 'curricular', 'birthwi', 'histori', 'aquatica', 'open', 'dunkin', 'harvest', 'dancewear', 'affair', 'chemainu', 'isl', 'pour', 'figur', 'godard', 'hen', 'shelter', 'phili', 'brulyn', 'somm', 'stuf', 'teddi', 'junction', 'depend', 'kenoman', 'st', 'regi', 'modal', 'beecher', 'shika', 'nagi', 'artifici', 'genesi', 'facil', 'renew', 'vincelli', 'lower', 'ozzi', 'calliop', 'glasswork', 'closer', 'stream', 'screen', 'tof', 'henri', 'vai', 'caff', 'sternwheel', 'leyh', 'plum', 'heber', 'crawford', 'kogon', 'johnston', 'runner', 'map', 'lighthou', 'harringa', 'ttm', 'jiahua', 'maggi', 'bryan', 'insignia', 'sightek', 'rawli', 'sharp', 'sharpen', 'ducharm', 'kb', 'nikki', 'marcar', 'kabin', 'keeper', 'lone', 'scent', 'simpl', 'fellow', 'vondi', 'bon', 'voyag', 'cheyenn', 'lok', 'pavingston', 'linwood', 'derbi', 'borzak', 'mtn', 'envirod', 'nadan', 'nessi', 'chancey', 'tender', 'jessica', 'bottl', 'selkirk', 'feral', 'kitti', 'pierc', 'kootenai', 'messag', 'jual', 'mw', 'apart', 'moor', 'sct', 'al', 'staub', 'wendi', 'whirlwind', 'egg', 'uz', 'dollar', '#', '133', 'bahama', 'mel', 'onlin', 'ld', 'finnish', 'earthsmart', 'bush', 'lega', 'swityk', 'afterschool', 'tappen', 'easi', 'math', 'staci', 'genpac', 'perimet', 'shalanna', 'scrap', 'formanc', 'rampton', 'rockwork', 'comp', 'nick', 'dewdrop', 'castro', 'lamco', 'corrado', 'clad', 'flash', 'bruschetto', 'csi', 'jeryn', 'kumugw', 'kristin', 'monash', 'blantyr', 'harti', 'brigad', 'foxtrot', 'risk', 'rork', 'check', 'intim', 'awen', 'imagework', 'cynbad', 'bft', 'muffler', 'rcj', 'martini', 'shear', 'jeanneou', 'cardin', 'reincarn', 'duan', 'landwork', 'tlh', 'shappen', 'christina', 'cach', 'kucher', 'hepat', 'depot', 'institut']\n"
     ]
    }
   ],
   "source": [
    "words = list(word2vec_model.wv.vocab)\n",
    "print(words)"
   ]
  },
  {
   "cell_type": "code",
   "execution_count": 30,
   "metadata": {},
   "outputs": [],
   "source": [
    "#print (word2vec_model.similarity('bio', 'biochem'))"
   ]
  },
  {
   "cell_type": "code",
   "execution_count": 31,
   "metadata": {},
   "outputs": [],
   "source": [
    "#print (word2vec_model.most_similar(positive=['biochem'], negative=[], topn=4))"
   ]
  },
  {
   "cell_type": "code",
   "execution_count": 32,
   "metadata": {},
   "outputs": [
    {
     "name": "stderr",
     "output_type": "stream",
     "text": [
      "C:\\Users\\arturo.reyeslopez\\AppData\\Local\\Continuum\\anaconda3\\lib\\site-packages\\ipykernel_launcher.py:6: DeprecationWarning: Call to deprecated `similar_by_word` (Method will be removed in 4.0.0, use self.wv.similar_by_word() instead).\n",
      "  \n",
      "C:\\Users\\arturo.reyeslopez\\AppData\\Local\\Continuum\\anaconda3\\lib\\site-packages\\ipykernel_launcher.py:8: DeprecationWarning: Call to deprecated `__getitem__` (Method will be removed in 4.0.0, use self.wv.__getitem__() instead).\n",
      "  \n",
      "C:\\Users\\arturo.reyeslopez\\AppData\\Local\\Continuum\\anaconda3\\lib\\site-packages\\ipykernel_launcher.py:10: DeprecationWarning: Call to deprecated `__getitem__` (Method will be removed in 4.0.0, use self.wv.__getitem__() instead).\n",
      "  # Remove the CWD from sys.path while we load stuff.\n"
     ]
    },
    {
     "data": {
      "image/png": "[encoded data removed]",
      "text/plain": [
       "<Figure size 432x288 with 1 Axes>"
      ]
     },
     "metadata": {
      "needs_background": "light"
     },
     "output_type": "display_data"
    }
   ],
   "source": [
    "display_closestwords_tsnescatterplot(word2vec_model, 'bio', 100)\n"
   ]
  }
 ],
 "metadata": {
  "kernelspec": {
   "display_name": "Python 3",
   "language": "python",
   "name": "python3"
  },
  "language_info": {
   "codemirror_mode": {
    "name": "ipython",
    "version": 3
   },
   "file_extension": ".py",
   "mimetype": "text/x-python",
   "name": "python",
   "nbconvert_exporter": "python",
   "pygments_lexer": "ipython3",
   "version": "3.7.3"
  }
 },
 "nbformat": 4,
 "nbformat_minor": 2
}
