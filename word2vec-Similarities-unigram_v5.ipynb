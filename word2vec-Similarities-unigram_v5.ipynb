{
 "cells": [
  {
   "cell_type": "code",
   "execution_count": 1,
   "metadata": {},
   "outputs": [
    {
     "name": "stderr",
     "output_type": "stream",
     "text": [
      "C:\\Users\\arturo.reyeslopez\\AppData\\Local\\Continuum\\anaconda3\\lib\\site-packages\\gensim\\utils.py:1197: UserWarning: detected Windows; aliasing chunkize to chunkize_serial\n",
      "  warnings.warn(\"detected Windows; aliasing chunkize to chunkize_serial\")\n"
     ]
    }
   ],
   "source": [
    "import pandas as pd\n",
    "from pandas import DataFrame\n",
    "import matplotlib.pyplot as plt\n",
    "%matplotlib notebook\n",
    "import numpy as np\n",
    "import word2vec\n",
    "import re \n",
    "\n",
    "from gensim.models import Word2Vec\n",
    "from sklearn.manifold import TSNE\n",
    "from numpy import dot\n",
    "from numpy.linalg import norm\n",
    "from itertools import chain\n"
   ]
  },
  {
   "cell_type": "code",
   "execution_count": 2,
   "metadata": {},
   "outputs": [
    {
     "name": "stdout",
     "output_type": "stream",
     "text": [
      "Requirement already satisfied: spacy in c:\\users\\arturo.reyeslopez\\appdata\\local\\continuum\\anaconda3\\lib\\site-packages (2.1.8)\n",
      "Requirement already satisfied: preshed<2.1.0,>=2.0.1 in c:\\users\\arturo.reyeslopez\\appdata\\local\\continuum\\anaconda3\\lib\\site-packages (from spacy) (2.0.1)\n",
      "Requirement already satisfied: plac<1.0.0,>=0.9.6 in c:\\users\\arturo.reyeslopez\\appdata\\local\\continuum\\anaconda3\\lib\\site-packages (from spacy) (0.9.6)\n",
      "Requirement already satisfied: wasabi<1.1.0,>=0.2.0 in c:\\users\\arturo.reyeslopez\\appdata\\local\\continuum\\anaconda3\\lib\\site-packages (from spacy) (0.2.2)\n",
      "Requirement already satisfied: murmurhash<1.1.0,>=0.28.0 in c:\\users\\arturo.reyeslopez\\appdata\\local\\continuum\\anaconda3\\lib\\site-packages (from spacy) (1.0.2)\n",
      "Requirement already satisfied: thinc<7.1.0,>=7.0.8 in c:\\users\\arturo.reyeslopez\\appdata\\local\\continuum\\anaconda3\\lib\\site-packages (from spacy) (7.0.8)\n",
      "Requirement already satisfied: requests<3.0.0,>=2.13.0 in c:\\users\\arturo.reyeslopez\\appdata\\local\\continuum\\anaconda3\\lib\\site-packages (from spacy) (2.21.0)\n",
      "Requirement already satisfied: srsly<1.1.0,>=0.0.6 in c:\\users\\arturo.reyeslopez\\appdata\\local\\continuum\\anaconda3\\lib\\site-packages (from spacy) (0.1.0)\n",
      "Requirement already satisfied: numpy>=1.15.0 in c:\\users\\arturo.reyeslopez\\appdata\\local\\continuum\\anaconda3\\lib\\site-packages (from spacy) (1.16.2)\n",
      "Requirement already satisfied: blis<0.3.0,>=0.2.2 in c:\\users\\arturo.reyeslopez\\appdata\\local\\continuum\\anaconda3\\lib\\site-packages (from spacy) (0.2.4)\n",
      "Requirement already satisfied: cymem<2.1.0,>=2.0.2 in c:\\users\\arturo.reyeslopez\\appdata\\local\\continuum\\anaconda3\\lib\\site-packages (from spacy) (2.0.2)\n",
      "Requirement already satisfied: tqdm<5.0.0,>=4.10.0 in c:\\users\\arturo.reyeslopez\\appdata\\local\\continuum\\anaconda3\\lib\\site-packages (from thinc<7.1.0,>=7.0.8->spacy) (4.31.1)\n",
      "Requirement already satisfied: certifi>=2017.4.17 in c:\\users\\arturo.reyeslopez\\appdata\\local\\continuum\\anaconda3\\lib\\site-packages (from requests<3.0.0,>=2.13.0->spacy) (2019.9.11)\n",
      "Requirement already satisfied: urllib3<1.25,>=1.21.1 in c:\\users\\arturo.reyeslopez\\appdata\\local\\continuum\\anaconda3\\lib\\site-packages (from requests<3.0.0,>=2.13.0->spacy) (1.24.1)\n",
      "Requirement already satisfied: chardet<3.1.0,>=3.0.2 in c:\\users\\arturo.reyeslopez\\appdata\\local\\continuum\\anaconda3\\lib\\site-packages (from requests<3.0.0,>=2.13.0->spacy) (3.0.4)\n",
      "Requirement already satisfied: idna<2.9,>=2.5 in c:\\users\\arturo.reyeslopez\\appdata\\local\\continuum\\anaconda3\\lib\\site-packages (from requests<3.0.0,>=2.13.0->spacy) (2.8)\n"
     ]
    }
   ],
   "source": [
    "!pip install spacy"
   ]
  },
  {
   "cell_type": "code",
   "execution_count": 3,
   "metadata": {},
   "outputs": [
    {
     "name": "stdout",
     "output_type": "stream",
     "text": [
      "Requirement already satisfied: nltk in c:\\users\\arturo.reyeslopez\\appdata\\local\\continuum\\anaconda3\\lib\\site-packages (3.4)\n",
      "Requirement already satisfied: six in c:\\users\\arturo.reyeslopez\\appdata\\local\\continuum\\anaconda3\\lib\\site-packages (from nltk) (1.12.0)\n",
      "Requirement already satisfied: singledispatch in c:\\users\\arturo.reyeslopez\\appdata\\local\\continuum\\anaconda3\\lib\\site-packages (from nltk) (3.4.0.3)\n"
     ]
    }
   ],
   "source": [
    "!pip install nltk"
   ]
  },
  {
   "cell_type": "code",
   "execution_count": 4,
   "metadata": {},
   "outputs": [
    {
     "name": "stdout",
     "output_type": "stream",
     "text": [
      "Requirement already satisfied: word2vec in c:\\users\\arturo.reyeslopez\\appdata\\local\\continuum\\anaconda3\\lib\\site-packages (0.9.4+2.g8204e5c)\n",
      "Requirement already satisfied: numpy in c:\\users\\arturo.reyeslopez\\appdata\\local\\continuum\\anaconda3\\lib\\site-packages (from word2vec) (1.16.2)\n",
      "Requirement already satisfied: cython in c:\\users\\arturo.reyeslopez\\appdata\\local\\continuum\\anaconda3\\lib\\site-packages (from word2vec) (0.29.6)\n"
     ]
    }
   ],
   "source": [
    "!pip install word2vec"
   ]
  },
  {
   "cell_type": "code",
   "execution_count": 5,
   "metadata": {},
   "outputs": [
    {
     "name": "stderr",
     "output_type": "stream",
     "text": [
      "[nltk_data] Downloading package punkt to\n",
      "[nltk_data]     C:\\Users\\arturo.reyeslopez\\AppData\\Roaming\\nltk_data..\n",
      "[nltk_data]     .\n",
      "[nltk_data]   Package punkt is already up-to-date!\n"
     ]
    },
    {
     "data": {
      "text/plain": [
       "True"
      ]
     },
     "execution_count": 5,
     "metadata": {},
     "output_type": "execute_result"
    }
   ],
   "source": [
    "import nltk\n",
    "from nltk.corpus import stopwords\n",
    "from nltk.tokenize import word_tokenize\n",
    "from nltk.stem import PorterStemmer\n",
    "from nltk.stem import WordNetLemmatizer \n",
    "\n",
    "\n",
    "nltk.download('punkt')"
   ]
  },
  {
   "cell_type": "code",
   "execution_count": 6,
   "metadata": {},
   "outputs": [],
   "source": [
    "# From https://dictionary.cambridge.org/grammar/british-grammar/word-formation/prefixes\n",
    "english_prefixes = {\n",
    "\"anti\": \"\",    # e.g. anti-goverment, anti-racist, anti-war\n",
    "\"auto\": \"\",    # e.g. autobiography, automobile\n",
    "\"bio\": \"\",     # e.g. life, living matter\n",
    "#\"de\": \"\",      # e.g. de-classify, decontaminate, demotivate\n",
    "#\"dis\": \"\",     # e.g. disagree, displeasure, disqualify\n",
    "\"down\": \"\",    # e.g. downgrade, downhearted\n",
    "\"extra\": \"\",   # e.g. extraordinary, extraterrestrial\n",
    "\"hyper\": \"\",   # e.g. hyperactive, hypertension\n",
    "#\"il\": \"\",     # e.g. illegal\n",
    "#\"im\": \"\",     # e.g. impossible\n",
    "#\"in\": \"\",     # e.g. insecure\n",
    "#\"ir\": \"\",     # e.g. irregular\n",
    "#\"inter\": \"\",  # e.g. interactive, international\n",
    "\"mega\": \"\",   # e.g. megabyte, mega-deal, megaton\n",
    "#\"mid\": \"\",    # e.g. midday, midnight, mid-October\n",
    "#\"mis\": \"\",    # e.g. misaligned, mislead, misspelt\n",
    "\"non\": \"\",    # e.g. non-payment, non-smoking\n",
    "\"over\": \"\",  # e.g. overcook, overcharge, overrate\n",
    "\"out\": \"\",    # e.g. outdo, out-perform, outrun\n",
    "\"post\": \"\",   # e.g. post-election, post-warn\n",
    "\"pre\": \"\",    # e.g. prehistoric, pre-war\n",
    "#\"pro\": \"\",    # e.g. pro-communist, pro-democracy\n",
    "#\"re\": \"\",     # e.g. reconsider, redo, rewrite\n",
    "\"semi\": \"\",   # e.g. semicircle, semi-retired\n",
    "#\"sub\": \"\",    # e.g. submarine, sub-Saharan\n",
    "\"super\": \"\",   # e.g. super-hero, supermodel\n",
    "\"tele\": \"\",    # e.g. television, telephathic\n",
    "\"trans\": \"\",   # e.g. transatlantic, transfer\n",
    "\"ultra\": \"\",   # e.g. ultra-compact, ultrasound\n",
    "#\"un\": \"\",      # e.g. under-cook, underestimate\n",
    "#\"up\": \"\",      # e.g. upgrade, uphill\n",
    "}"
   ]
  },
  {
   "cell_type": "code",
   "execution_count": 7,
   "metadata": {},
   "outputs": [],
   "source": [
    "import re\n",
    "from nltk.stem import PorterStemmer\n",
    "porter = PorterStemmer()"
   ]
  },
  {
   "cell_type": "code",
   "execution_count": 8,
   "metadata": {},
   "outputs": [],
   "source": [
    "def display_closestwords_tsnescatterplot(model, word, size):\n",
    "    \n",
    "    arr = np.empty((0,size), dtype='f')\n",
    "    word_labels = [word]\n",
    "\n",
    "    close_words = model.similar_by_word(word)\n",
    "\n",
    "    arr = np.append(arr, np.array([model[word]]), axis=0)\n",
    "    for wrd_score in close_words:\n",
    "        wrd_vector = model[wrd_score[0]]\n",
    "        word_labels.append(wrd_score[0])\n",
    "        arr = np.append(arr, np.array([wrd_vector]), axis=0)\n",
    "        \n",
    "    tsne = TSNE(n_components=2, random_state=0)\n",
    "    np.set_printoptions(suppress=True)\n",
    "    Y = tsne.fit_transform(arr)\n",
    "\n",
    "    x_coords = Y[:, 0]\n",
    "    y_coords = Y[:, 1]\n",
    "    plt.scatter(x_coords, y_coords)\n",
    "\n",
    "    for label, x, y in zip(word_labels, x_coords, y_coords):\n",
    "        plt.annotate(label, xy=(x, y), xytext=(0, 0), textcoords='offset points')\n",
    "    plt.xlim(x_coords.min()+0.00005, x_coords.max()+0.00005)\n",
    "    plt.ylim(y_coords.min()+0.00005, y_coords.max()+0.00005)\n",
    "    plt.show()"
   ]
  },
  {
   "cell_type": "code",
   "execution_count": 9,
   "metadata": {},
   "outputs": [],
   "source": [
    "##Get average sentence vector\n",
    "def avg_sentence_vector(words, model, num_features, index2word_set):\n",
    "    #function to average all words vectors in a given paragraph\n",
    "    featureVec = np.zeros((num_features,), dtype=\"float32\")\n",
    "    nwords = 0\n",
    "    for word in words:\n",
    "        if any(word in s for s in index2word_set):\n",
    "            nwords = nwords+1\n",
    "            featureVec = np.add(featureVec, model[word])\n",
    "\n",
    "    if nwords>0:\n",
    "        featureVec = np.divide(featureVec, nwords)\n",
    "    \n",
    "    return featureVec"
   ]
  },
  {
   "cell_type": "code",
   "execution_count": 10,
   "metadata": {},
   "outputs": [],
   "source": [
    "def change_string(str):\n",
    "    str = re.sub(r'(\\w{2}\\s)?\\s?& (\\w{2})?',r'\\1\\2',str).lower() #Remove & and put together letters divided by &\n",
    "    str = str.replace(\".com\",\"\") #Remove .com\n",
    "    str = str.replace(\"'s\", \"\")\n",
    "    str = re.sub(r'[^\\w\\s]',' ',str) #Remove symbols\n",
    "    str = re.sub(r'\\b([a-z])\\s+(?=[a-z]\\b)', r'\\1', str) #Remove spaces between two characters\n",
    "    str =re.sub(r\"\\b[a-zA-Z]\\b\", \"\", str)#Remove single characters\n",
    "    str =re.sub(r\"[ ]{2,}\", \" \",str); #Remove more than one space between words\n",
    "\n",
    "    return str.upper()"
   ]
  },
  {
   "cell_type": "code",
   "execution_count": 11,
   "metadata": {},
   "outputs": [
    {
     "name": "stderr",
     "output_type": "stream",
     "text": [
      "[nltk_data] Downloading package stopwords to\n",
      "[nltk_data]     C:\\Users\\arturo.reyeslopez\\AppData\\Roaming\\nltk_data..\n",
      "[nltk_data]     .\n",
      "[nltk_data]   Package stopwords is already up-to-date!\n"
     ]
    }
   ],
   "source": [
    "import nltk\n",
    "nltk.download('stopwords')\n",
    "from nltk.corpus import stopwords"
   ]
  },
  {
   "cell_type": "code",
   "execution_count": 12,
   "metadata": {},
   "outputs": [],
   "source": [
    "def additional_stops(file):\n",
    "    stopList=[]\n",
    "    stopList=[line.strip() for line in open(file, 'r')]\n",
    "    stopWord= [[word.lower() for word in text.split()] for text in stopList]\n",
    "    \n",
    "    return set(stopList)"
   ]
  },
  {
   "cell_type": "code",
   "execution_count": 13,
   "metadata": {},
   "outputs": [],
   "source": [
    "#Flatten one level of nesting\n",
    "def flatten(listOfLists):\n",
    "    return list(chain.from_iterable(listOfLists))"
   ]
  },
  {
   "cell_type": "code",
   "execution_count": 14,
   "metadata": {},
   "outputs": [],
   "source": [
    "def listOfLists(lst):\n",
    "    return list(map(lambda el:[el], lst)) "
   ]
  },
  {
   "cell_type": "code",
   "execution_count": 15,
   "metadata": {},
   "outputs": [],
   "source": [
    "#Recives a list of words\n",
    "#Returns a list of prefixes and steam words\n",
    "def stem_prefix(company, prefixes):\n",
    "    comp=[]\n",
    "    company = list(filter(None, company))\n",
    "    for word in company:\n",
    "        for prefix in sorted(prefixes, key=len, reverse=True):\n",
    "            # Use subn to track the no. of substitution made.\n",
    "            # Allow dash in between prefix and root. \n",
    "            word, nsub = re.subn(\"{}[\\-]?\".format(prefix), \"\", word)\n",
    "            if nsub > 0:\n",
    "                comp.append(prefix)\n",
    "        comp.append(porter.stem(word))\n",
    "    return comp"
   ]
  },
  {
   "cell_type": "code",
   "execution_count": 16,
   "metadata": {},
   "outputs": [],
   "source": [
    "#Receives a list of words\n",
    "#Returns a list of prefixes and list of steam words\n",
    "def porter_english_plus(companiesList, prefixes=english_prefixes):\n",
    "    coList=[]\n",
    "    \n",
    "    for company in companiesList:\n",
    "        coList.append(stem_prefix(company.split(\" \"), prefixes))\n",
    "    \n",
    "    return coList"
   ]
  },
  {
   "cell_type": "code",
   "execution_count": 17,
   "metadata": {},
   "outputs": [],
   "source": [
    "#Search new words to compare against the dataset are included in the vocabulary. \n",
    "#Otherwise, Include them to calculate vectors\n",
    "def searchVocab(words):\n",
    "    vocab=[]\n",
    "    for word in words:\n",
    "        try:\n",
    "            word2vec_model[word]\n",
    "        except:\n",
    "            vocab.append(word)\n",
    "    return vocab"
   ]
  },
  {
   "cell_type": "code",
   "execution_count": 18,
   "metadata": {},
   "outputs": [],
   "source": [
    "import word2vec"
   ]
  },
  {
   "cell_type": "code",
   "execution_count": 19,
   "metadata": {},
   "outputs": [],
   "source": [
    "def preprocessing(words):\n",
    "    stopWords = additional_stops('data/stop-words.txt')\n",
    "\n",
    "    tokens=list(map(lambda x: change_string(x),list(map(lambda x: ' '.join([word for word in x.split() if word.lower() not in stopWords]), words))))\n",
    "    \n",
    "    toks= porter_english_plus(tokens)\n",
    "    \n",
    "    ps = PorterStemmer()\n",
    "    \n",
    "    return list(map(lambda x: [ps.stem(y) for y in x], toks))"
   ]
  },
  {
   "cell_type": "code",
   "execution_count": 20,
   "metadata": {},
   "outputs": [],
   "source": [
    "#Read dataset:\n",
    "def readFileToDataFrame(fileName):\n",
    "    return pd.read_csv(fileName, usecols = ['name'])\n"
   ]
  },
  {
   "cell_type": "code",
   "execution_count": 21,
   "metadata": {},
   "outputs": [],
   "source": [
    "#Process dataset sent as dataframe:\n",
    "def preprocess(df):\n",
    "    words=[]\n",
    "    \n",
    "    words= df['name'].values.tolist()\n",
    "    \n",
    "    prepWords= preprocessing(words)\n",
    "        \n",
    "    data_transposed = zip(prepWords)\n",
    "    df  = pd.DataFrame(data_transposed, columns=[\"name\"])\n",
    "    df2 = df['name']\n",
    "    \n",
    "    return prepWords, df2"
   ]
  },
  {
   "cell_type": "code",
   "execution_count": 22,
   "metadata": {},
   "outputs": [],
   "source": [
    "def trainModel(prepWords):\n",
    "    prepWords=flatten(prepWords)\n",
    "    \n",
    "    prepWords= [i for i in prepWords if i] \n",
    "    \n",
    "    prepWords= [[el] for el in prepWords]\n",
    "    \n",
    "    #Training model using preprocessed data\n",
    "    #size: Dinmensionality of the word vectors\n",
    "    #window: Maximum distance between the current and predicted word within a sentence\n",
    "    #min_count: Ignores all words with total frequency lower than this.\n",
    "    #workers: Use these many worker threads to train the model\n",
    "    #sg: The training algorithm, either CBOW(0) or skip gram(1). Default is 0s\n",
    "    word2vec_model = Word2Vec(prepWords,size=300, window=2, min_count=1, workers=7, sg=1)\n",
    "\n",
    "    #Summarize vocabulary\n",
    "    words = list(word2vec_model.wv.vocab)\n",
    "    \n",
    "    return word2vec_model"
   ]
  },
  {
   "cell_type": "code",
   "execution_count": 23,
   "metadata": {},
   "outputs": [
    {
     "name": "stderr",
     "output_type": "stream",
     "text": [
      "C:\\Users\\arturo.reyeslopez\\AppData\\Local\\Continuum\\anaconda3\\lib\\site-packages\\ipykernel_launcher.py:9: DeprecationWarning: Call to deprecated `__getitem__` (Method will be removed in 4.0.0, use self.wv.__getitem__() instead).\n",
      "  if __name__ == '__main__':\n"
     ]
    }
   ],
   "source": [
    "df= readFileToDataFrame('name-submission-sample.csv')\n",
    "\n",
    "col_names =  ['name', 'avg_vector']\n",
    "df2 = pd.DataFrame(col_names)\n",
    "\n",
    "prepWords, df2= preprocess(df)\n",
    "\n",
    "word2vec_model= trainModel(prepWords)\n",
    "\n",
    "df['avg_vector']=df2.apply(lambda row : avg_sentence_vector(row, model=word2vec_model, num_features=300, index2word_set=set(word2vec_model.wv.index2word)).tolist())\n",
    "\n",
    "##Saving name and vector values in file\n",
    "df.to_csv('name-submission-vectors.csv',encoding='utf-8', index=False)\n",
    "\n",
    "words = list(word2vec_model.wv.vocab)"
   ]
  },
  {
   "cell_type": "code",
   "execution_count": 24,
   "metadata": {},
   "outputs": [
    {
     "name": "stderr",
     "output_type": "stream",
     "text": [
      "C:\\Users\\arturo.reyeslopez\\AppData\\Local\\Continuum\\anaconda3\\lib\\site-packages\\ipykernel_launcher.py:7: DeprecationWarning: Call to deprecated `__getitem__` (Method will be removed in 4.0.0, use self.wv.__getitem__() instead).\n",
      "  import sys\n"
     ]
    },
    {
     "name": "stdout",
     "output_type": "stream",
     "text": [
      "Similarity: 0.7492349584018971\n",
      "                         name  \\\n",
      "200  AIR ONE RENTAL SOLUTIONS   \n",
      "\n",
      "                                            avg_vector  similarity  \n",
      "200  [-0.0006513572297990322, 0.0003201732179149985...    0.749235  \n"
     ]
    },
    {
     "name": "stderr",
     "output_type": "stream",
     "text": [
      "C:\\Users\\arturo.reyeslopez\\AppData\\Local\\Continuum\\anaconda3\\lib\\site-packages\\ipykernel_launcher.py:9: DeprecationWarning: Call to deprecated `__getitem__` (Method will be removed in 4.0.0, use self.wv.__getitem__() instead).\n",
      "  if __name__ == '__main__':\n"
     ]
    }
   ],
   "source": [
    "from scipy import spatial\n",
    "from gensim.models import KeyedVectors\n",
    "\n",
    "#ORIGINAL 4 PAWS ONLY PET SERVICE\n",
    "#get average vector for a new company\n",
    "#company = \"SMOKERY-FLURER\" #1.0\n",
    "#company = \"PAWS 4 PET SERVICE\" #Google:0.95, Word2Vec model:  1.0\n",
    "#company = \"PAWS FOR ONLY PET\" #0.80 0.77193\n",
    "#company = \"PAWS FOR ONLY PETS\" #0.80 0.77193, 0.738519, 0.721\n",
    "#company = \"POS FOR PET\" #POS is not in the vocabulary, 0.5495\n",
    "#company =\"VICTORIA INSTITUTE BIO CHEMICAL\" #1.0 VICTORIA INSTITUTE BIOCHEMICAL\n",
    "#company =\"VICTORIA INSTITUTE'S BIO-CHEMICAL\"\n",
    "company = \"AIR TWO RENTAL SOLUTIONS\" #0.745764, 0.764062 -sg:skip-gram, size:300, 0.80348\n",
    "\n",
    "#company= \"FALLEN TRACTOR SERVICES\"#0.701912\n",
    "\n",
    "words=[]\n",
    "words.append(company)\n",
    "\n",
    "prepWords= preprocessing(words)\n",
    "\n",
    "#Before query words in vocabulary and returns the words needed to be included in the vocabulary\n",
    "prepWords=flatten(prepWords)\n",
    "\n",
    "prepWords=[i for i in prepWords if i] \n",
    "\n",
    "vocab= searchVocab(prepWords)\n",
    "\n",
    "#If needed add word to vocabulary\n",
    "if len(vocab) > 0:\n",
    "    pwords=[]\n",
    "    df= readFileToDataFrame('name-submission-sample.csv')\n",
    "    pwords, df2= preprocess(df)\n",
    "    pwords.append(vocab)\n",
    "    word2vec_model= trainModel(pwords)    \n",
    "    #Calculating average vector for each company name:\n",
    "    df['avg_vector']=df2.apply(lambda row : avg_sentence_vector(row, model=word2vec_model, num_features=300, index2word_set=set(word2vec_model.wv.index2word)).tolist())\n",
    "    #Saving name and vector values in file\n",
    "    df.to_csv('name-submission-vectors.csv',encoding='utf-8', index=False)\n",
    "\n",
    "df = pd.read_csv('name-submission-vectors.csv', usecols = ['name','avg_vector'])\n",
    "df['avg_vector']=df['avg_vector'].apply(lambda s: [float(x.strip(' []')) for x in s.split(',')])\n",
    "\n",
    "company_avg_vector = avg_sentence_vector(prepWords, model=word2vec_model, num_features=300, index2word_set=set(word2vec_model.wv.index2word))\n",
    "\n",
    "df['similarity']=df['avg_vector'].apply(lambda row : 1 - spatial.distance.cosine(row, company_avg_vector))\n",
    "\n",
    "s= df['similarity'].max()\n",
    "print(\"Similarity:\",s)\n",
    "\n",
    "df3= df.loc[df['similarity']== s]\n",
    "print(df3)\n"
   ]
  },
  {
   "cell_type": "code",
   "execution_count": 25,
   "metadata": {},
   "outputs": [],
   "source": [
    "#print(word2vec_model['victoria'])"
   ]
  },
  {
   "cell_type": "code",
   "execution_count": 26,
   "metadata": {},
   "outputs": [
    {
     "name": "stderr",
     "output_type": "stream",
     "text": [
      "C:\\Users\\arturo.reyeslopez\\AppData\\Local\\Continuum\\anaconda3\\lib\\site-packages\\ipykernel_launcher.py:1: DeprecationWarning: Call to deprecated `most_similar` (Method will be removed in 4.0.0, use self.wv.most_similar() instead).\n",
      "  \"\"\"Entry point for launching an IPython kernel.\n"
     ]
    },
    {
     "name": "stdout",
     "output_type": "stream",
     "text": [
      "('fastfood', 0.20879755914211273)\n",
      "('hammer', 0.20450574159622192)\n",
      "('allur', 0.20118337869644165)\n",
      "('wright', 0.20001833140850067)\n",
      "('daili', 0.1990675926208496)\n",
      "('mgt', 0.1908089816570282)\n",
      "('mcintosh', 0.18571510910987854)\n",
      "('autopart', 0.1729743778705597)\n",
      "('metamorphosi', 0.16965581476688385)\n",
      "('doak', 0.16890916228294373)\n"
     ]
    }
   ],
   "source": [
    "ms=word2vec_model.most_similar('pet')\n",
    "\n",
    "for x in ms:\n",
    "    print (x)"
   ]
  },
  {
   "cell_type": "code",
   "execution_count": 27,
   "metadata": {},
   "outputs": [
    {
     "name": "stdout",
     "output_type": "stream",
     "text": [
      "[('technolog', 0.20126648247241974), ('hummel', 0.18740878999233246)]\n"
     ]
    },
    {
     "name": "stderr",
     "output_type": "stream",
     "text": [
      "C:\\Users\\arturo.reyeslopez\\AppData\\Local\\Continuum\\anaconda3\\lib\\site-packages\\ipykernel_launcher.py:1: DeprecationWarning: Call to deprecated `similar_by_word` (Method will be removed in 4.0.0, use self.wv.similar_by_word() instead).\n",
      "  \"\"\"Entry point for launching an IPython kernel.\n"
     ]
    }
   ],
   "source": [
    "print (word2vec_model.similar_by_word('paw', 2)) # Get two most similar words to 'paw'"
   ]
  },
  {
   "cell_type": "code",
   "execution_count": 28,
   "metadata": {},
   "outputs": [
    {
     "name": "stdout",
     "output_type": "stream",
     "text": [
      "['rfn', 'contract', 'splash', 'beauti', 'studio', 'fabl', 'clean', 'mainland', 'tank', 'servic', 'harrison', 'develop', 'strate', 'scape', 'tight', 'line', 'fish', 'charter', 'westwat', 'thechimneyguy', 'chimney', '2008', 'enterpri', 'cottonwood', 'tree', 'emporium', 'westform', 'kevin', 'mitchel', 'construct', 'interior', 'drywood', 'initi', 'elip', 'consult', 'coal', 'valley', 'metal', 'recycl', 'greenwood', 'gourmet', 'mushroom', 'BC', 'blacklin', 'form', 'chida', 'technolog', 'ward', 'group', 'health', 'system', 'strategi', 'okonlin', 'info', 'softwar', 'LO', 'dare', 'RZ', 'excav', 'log', 'DJ', 'product', 'sabiston', 'builder', 'uniqu', 'you', 'integr', 'well', 'ladner', 'storag', 'real', 'time', 'graphic', 'wrap', 'IT', 'UP', 'insul', 'market', 'MC', 'mainten', 'new', 'view', 'yaskar', 'sea', 'marin', 'electr', 'octan', 'help', 'hand', 'senior', 'care', 'mediar', 'dvd', 'canada', 'camprv', 'rental', 'alemb', 'heal', 'art', 'centr', 'ET', 'transport', 'abm', 'drywal', 'committ', 'strong', 'sustain', 'salmon', 'arm', 'worx', 'idealrevenu', 'affili', 'network', 'ironwood', 'properti', 'abendago', 'media', 'armi', 'novelti', 'altern', 'solut', 'marci', 'mercantil', 'heavenli', 'maid', 'MH', 'lane', 'famili', 'childcar', 'omaco', 'invest', 'dominion', 'build', 'saltspr', 'island', 'home', 'electron', 'imperi', 'treasur', 'import', 'chilliwack', 'joy', 'church', 'manjit', 'parkad', 'chameleon', 'creativ', 'web', 'design', 'british', 'columbia', 'snow', 'chaser', 'glow', 'talent', 'moss', 'sologica', 'GO', 'commun', 'JH', 'disast', 'legaspi', 'express', 'shinmar', 'westmount', 'plumb', 'heat', 'jaykel', 'eastasian', 'stone', 'SJ', 'fenc', 'urban', 'green', 'audiokrack', 'record', 'futiqu', 'bella', 'ray', 'cloth', 'arriva', 'partner', 'peerless', 'paint', 'ikol', '88', 'AZ', 'photo', 'iri', 'hou', 'fairway', 'promot', 'bolt', 'abc', 'gum', 'remov', 'liquid', 'underground', 'enterpr', 'blackcomb', 'citi', 'farmer', 'landscap', 'RE', 'FI', 'guy', 'mortgag', 'broker', 'better', 'kool', 'nail', 'spa', 'magnum', 'sabr', 'kid', 'zone', 'prekindergarten', 'out', 'school', 'heartsong', 'wholist', 'center', 'ceramica', '311', 'architectur', 'ceram', 'kaslo', 'pave', 'north', 'kootenay', 'wood', 'spruce', 'glass', 'DP', 'puremarket', 'abracadabra', 'apparel', 'shimmer', 'whole', 'earth', 'food', 'littl', 'cricket', 'daycar', 'color', 'loung', 'rink', 'turf', 'manag', 'lake', 'outfitt', 'EV', 'floral', 'rainbow', 'hog', 'den', 'campground', 'int', 'namedream', 'current', 'knot', 'raisin', 'CF', 'fresh', 'hire', 'hubbi', 'handyman', 'alpaca', 'vision', '9', 'oral', 'hygien', 'fall', 'tractor', 'mgt', 'snowboard', 'camp', 'unikart', 'backward', 'bear', 'counsel', 'hypnotiq', 'wear', 'princess', 'limousin', 'waterat', 'bayn', 'gener', 'store', 'redlin', 'lawn', 'william', 'creek', 'adventur', 'yibada', 'domin', 'mak', 'associ', 'colorado', 'joyou', 'bead', 'mount', 'pendelton', 'ventur', 'canadian', 'band', 'aid', 'dmj', 'mop', 'hypnoc', 'greenbank', 'environ', 'princ', 'rupert', 'hallow', 'EN', 'fest', 'clear', 'teck', 'dnr', 'gedd', 'drive', 'kd', 'dive', 'coastal', 'bay', 'johnni', 'max', 'tinker', 'realti', 'tao', 'woodwork', 'trillium', 'coutur', 'salt', 'air', 'two', 'hammer', 'krsd', 'custom', 'creation', 'gift', 'galleri', 'pandora', 'pamper', 'plea', 'centric', 'holli', 'classic', 'cater', 'titan', 'skylin', 'anna', 'pamela', 'MK', 'pat', 'bookkeep', 'answer', 'water', 'west', 'photographi', 'bounc', 'lot', 'matrix', 'carpentri', 'jill', 'bean', 'count', 'TH', 'dog', 'crabbi', 'sandwich', 'blind', 'drape', 'modern', 'draperi', 'salmonberri', 'trade', 'coast', 'asset', 'MS', 'addi', 'boutiqu', 'stuck', 'DL', 'manila', 'jamtec', 'project', 'karoway', 'stop', 'tear', 'foundat', 'agrofood', 'farm', 'coalit', 'educ', 'peopl', 'organ', 'need', 'chand', 'motor', 'holman', 'icf', 'work', 'star', 'steel', 'sale', 'corner', 'groomer', 'agrowchem', 'pacif', 'desert', 'kitchen', 'JB', 'caribbean', 'grill', 'tag', 'bag', 'allcret', 'vita', 'aficionado', 'hold', 'earthsign', 'cedar', 'sign', 'cawston', 'acr', 'lockwork', 'otto', 'pub', 'plu', '1', 'cash', 'hole', 'golf', 'tour', 'penticton', 'veterinari', 'hospit', 'latango', 'okanagan', 'greet', 'mix', 'thing', 'groceri', 'touch', 'cure', 'meat', 'good', 'van', 'alphen', 'one', 'picturecha', 'ski', 'limit', 'roof', 'knead', 'bodywork', '2006', 'btbc', 'wine', 'countri', 'comfort', 'more', 'grant', 'internet', 'MR', 'enjoin', 'mjp', 'south', 'bakeri', 'ponderosa', 'equip', 'artist', 'concret', 'pure', 'function', 'footwork', 'greencrest', 'casa', 'lili', 'vacat', 'tech', 'snowcat', 'rip', 'moldpro', 'inspect', 'dalger', 'pohoda', 'tallyho', 'univ', 'joint', 'indigo', 'therapi', 'vertic', 'girl', 'pole', 'danc', 'natur', 'bellevu', 'cafe', 'anarchi', 'cycl', 'panoram', 'BB', 'bill', 'iren', 'deli', 'blue', 'moon', 'estat', 'angel', 'seren', 'ron', 'schechtel', 'JF', 'homemainten', 'geoserv', 'finn', 'optic', 'westbank', 'giesel', 'donna', 'jackson', 'decor', 'pro', 'fit', 'dig', 'allur', 'accent', 'mackenzi', 'naturopath', 'clinic', 'smithson', 'auction', 'daryn', 'eng', 'marti', 'premier', 'ideal', 'data', 'secur', 'intern', 'kan', 'rise', 'sun', 'fruit', 'beneath', 'boddhi', 'alexand', 'technologist', 'somax', 'truck', 'misconduct', 'vintner', 'errand', 'innov', 'exterior', 'val', 'cooki', 'kar', 'show', 'shine', 'anoth', 'chanc', 'street', 'ministri', 'ceili', 'inn', 'gett', 'remind', 'reflexion', 'tranquil', 'massag', 'digit', 'yello', 'thunder', 'alley', 'entertain', 'drecon', 'top', 'shelf', 'autograph', 'children', 'chariti', 'sarah', 'spot', 'euphoria', 'esthet', 'boult', 'commerci', 'sunsh', 'chesher', 'cashel', 'august', 'audio', 'canyon', 'albert', 'chuck', 'renov', 'tiger', 'gdh', 'weld', 'yard', 'ape', 'make', 'right', 'iron', 'phoenix', 'okanoggin', 'barber', 'skysurf', 'skaha', 'crystalkey', 'board', 'kennel', 'love', 'connect', '420', 'firestop', 'caulk', 'lee', 'boak', 'alec', 'timeless', 'tile', 'magic', 'jonathan', 'bailey', 'dean', 'rosenk', 'tool', 'ace', 'low', 'cost', 'repair', 'jakob', 'silverit', 'lauri', 'hair', 'shopp', 'sparki', 'jone', 'accessori', 'polar', 'humbl', 'helper', 'handi', 'wing', 'son', 'qualiti', 'move', 'amodar', 'btmp', 'contstruct', 'black', 'small', 'allstar', 'window', 'profess', 'specialist', 'cin', 'event', 'zahaira', 'oasi', 'bmv', 'shale', 'tamco', 'LJ', 'tribear', 'hor', 'rock', 'tack', 'shop', 'hardcor', 'preci', 'floor', 'reviv', 'side', 'squeeg', 'wash', 'sprig', 'high', 'dust', 'dancer', 'marichel', 'vineyard', 'wineri', 'standard', 'radio', 'bara', 'canadien', 'contractor', 'newcret', 'resurfac', '800', 'grape', 'restaur', 'mason', 'birthday', 'parti', 'ink', 'tattoo', 'hungri', 'monk', 'dead', 'antler', 'beach', 'homeown', 'ice', 'dessert', 'heliap', 'aviat', 'dawn', 'industri', 'first', 'taylor', 'made', 'daydream', 'KS', 'fiberglass', 'sundial', 'bed', 'breakfast', 'colli', 'victori', 'confer', 'CL', 'ga', 'transform', 'stage', 'bodi', 'rlb', 'chiquita', 'alter', 'nichol', 'wfo', 'airborn', 'hang', 'glide', 'terrac', 'mcgunigl', 'chamberland', 'fiji', 'fashion', 'pest', 'control', 'kelli', 'pen', 'club', 'OK', 'station', 'old', 'grey', 'potteri', 'craftwork', 'nudepth', 'therapeut', 'mice', 'cartoon', 'progress', 'three', 'lion', 'chumley', 'stabl', 'gait', 'ride', 'martin', 'hrd', 'activ', 'live', 'inland', 'claudio', 'martinotti', 'comput', 'mpoweru', 'finnair', 'doubl', 'distribut', 'case', 'readi', 'step', 'get', 'smart', 'tax', 'lightwav', 'laser', 'skin', 'anderson', 'five', 'LS', 'transfer', 'parker', 'courier', 'basket', 'feet', 'foot', 'pyramid', 'kickin', 'candl', 'cabinet', 'allison', 'ten', 'reason', 'flight', 'deck', 'amaz', 'carm', 'mulitia', 'advoc', 'turner', 'park', 'aurora', 'leap', 'detail', 'beulah', 'orchard', 'bib', 'JC', 'forum', 'scoil', 'rinc', 'davin', 'irish', 'longev', 'olalla', 'molli', 'aztec', 'cogbil', 'ogopogo', 'candi', 'cave', 'heart', 'amak', 'RR', 'charli', 'defi', 'graviti', 'cross', 'train', 'summerland', 'deliveri', 'eagl', 'ridg', '4', 'less', 'GC', 'manufactur', 'valiant', 'brough', 'bouncer', 'pool', 'rob', 'happi', 'hour', 'der', 'stukkateur', 'restor', 'plaster', 'ED', 'wrobel', 'onguard', 'consum', 'janitori', 'HA', 'singh', 'lalli', 'sarowa', 'kelowna', '468040', 'car', 'sparetim', 'glosam', 'btr', 'partnership', 'ccii', 'brophi', 'autobodi', 'dymi', 'valleywid', 'jewel', 'AT', 'houseman', 'tait', 'borso', 'pictur', 'mountain', 'angler', 'guid', 'save', 'brand', 'carlson', 'sim', 'draft', 'dosanjh', 'westsid', 'tae', 'kwon', 'goodinson', 'olga', 'nakazna', 'jame', 'bryce', 'sweep', 'CS', 'final', 'job', 'site', 'cleanup', 'cottag', 'bookstor', 'pangea', 'dee', 'artwork', 'peter', 'finish', 'bearli', 'toad', 'recraft', 'donald', 'gunn', 'indulg', 'jewelleri', 'cornerston', 'pender', 'lakesid', 'blackberri', 'pardiwala', 'mad', 'mango', 'roland', 'support', 'blattner', 'vine', 'research', 'fisheri', 'seafood', 'sentri', 'telecar', 'room', 'consign', 'eco', 'greenbrier', 'dreamstallion', 'stand', 'still', 'barn', 'burg', 'mid', 'race', 'pigeon', '6537', 'felin', 'futur', 'cat', 'spring', 'unit', 'footbal', 'surf', 'kiss', 'circl', 'blade', 'clark', 'tave', 'winter', 'willempj', 'pol', 'baergen', '49', 'soda', 'mini', 'donut', 'amber', 'cab', 'true', 'greenwork', 'kristi', 'academi', 'non', 'inferno', 'lawrenc', 'ross', 'playford', 'versa', 'applic', 'brendan', 'garden', 'nurseri', 'eric', 'klemm', 'jazz', 'athlet', 'watch', 'adverti', 'free', 'madrina', 'rosa', 'guest', 'spice', 'life', 'fine', 'akerman', 'ground', 'jwho', 'sprout', 'exot', 'DC', 'SS', 'kiva', 'aerial', 'outer', 'sheet', 'naturascap', 'homework', 'mike', 'toul', 'instal', 'steffani', 'kann', 'todd', 'klatt', 'caretak', 'leaf', 'morningsid', 'law', 'reynold', 'carpet', 'upholsteri', 'irahvol', 'resid', 'voltag', 'overhead', 'upstair', 'DK', 'tlc', 'take', 'paradigm', 'coordin', 'movi', 'theatr', 'diamond', 'fiddlework', 'publish', 'bedford', 'nikken', 'spaal', 'nest', 'squar', 'level', 'bird', 'eye', 'randal', 'emmer', 'bread', 'planet', 'bloom', 'gulf', 'tom', 'burton', 'psychotherapist', 'hackett', 'berri', 'cookbook', 'goo', 'christoph', 'rowand', 'goodenuf', 'tileset', 'sandra', 'meyer', 'MA', 'mft', 'psycotherapi', 'winkl', 'savouri', 'triskel', 'forg', 'morrison', 'brown', 'red', 'ginger', 'scribe', 'quill', 'book', 'leadership', 'abund', 'friend', 'jpb', 'beverag', 'reflex', 'march', 'hare', 'workshop', 'literaci', 'chick', 'beautifi', 'ssi', 'maritim', 'ucan', 'distributor', 'uma', 'yoga', 'JO', 'trader', 'unlimit', 'radiant', 'nutrit', 'vesuviu', 'villag', 'manor', 'PU', 'soilut', 'twin', 'key', 'cast', 'pearson', 'destin', 'OM', 'mala', 'wilson', 'reinforc', 'big', 'hollywood', 'esl', 'bollywood', 'yarrow', 'physiotherapi', 'heel', 'sole', 'reflexolog', 'nur', 'ivan', 'rudi', 'aguirr', 'waterproof', 'polym', 'moo', 'flow', 'oil', 'jomjil', 'muskwa', 'logan', 'hotshot', 'toota', 'taxi', 'glen', 'wake', 'mopster', 'musician', 'world', 'wheel', 'mileston', 'moment', 'plan', 'northern', 'light', 'pokey', 'rice', 'cece', 'pilot', 'hot', 'crewchang', 'fort', 'nelson', 'tko', 'drill', 'bit', 'amisk', 'ceac', 'rventur', 'trevor', 'prou', 'ask', 'field', 'valv', 'tremar', 'scrub', 'squad', 'women', 'dmi', 'teak', 'AO', 'harvey', 'pressur', 'tatonka', 'mach', 'expedit', 'sikanni', 'automot', 'thoma', 'dvorak', 'ksp', 'oilfield', 'leger', 'RD', 'tripl', 'brennan', 'backho', 'EK', 'boondock', 'oneshot', 'rim', 'K2', 'exposur', 'river', 'bud', 'busi', 'mile', '233', 'total', 'inform', 'shadow', 'mechan', 'guloo', 'tammi', 'nobl', 'haefner', 'long', 'summer', 'jlr', 'krazi', 'treati', 'scott', 'crummey', 'bpc', 'someth', 'everyon', 'gwen', 'keith', 'bobcat', 'src', 'luci', 'dan', 'dettieh', 'DG', 'traffic', 'outlaw', 'sport', 'dwayn', 'conveni', 'dunedin', 'minac', 'miner', 'xplorat', 'seven', 'trinket', '5th', 'smith', 'christal', 'lynx', 'ljn', 'dcb', 'ent', 'hill', 'shire', 'dgr', 'lrm', 'k2k', 'brad', 'murrin', 'viper', 'technic', 'izon', 'style', 'capp', 'LU', 'martial', 'jpak', 'terri', 'baker', 'warden', 'codi', 'hoath', 'gen', 'nita', 'pooch', 'lipani', 'dene', 'eten', 'evil', 'auto', 'mbc', 'ohaughnessi', 'bmg', 'process', 'bonni', 'CK', 'fornasa', 'chocol', 'shoe', 'dilligaf', 'timber', 'fork', 'ambrook', 'lana', 'kraze', 'king', 'next', 'best', 'TU', 'feather', 'lebreton', 'ranka', 'wed', 'dot', 'com', 'sue', 'knight', 'bruce', 'habberfield', 'plp', 'oliv', 'mclean', 'notari', 'bullet', 'HS', 'nrb', 'aim', 'penney', 'edward', 'agenc', 'simpli', 'balanc', 'kare', 'jensen', 'energi', 'kaboom', 'rdg', 'millwright', 'linda', 'kendel', 'jack', 'shane', 'trailer', 'rocki', 'quick', 'lube', 'pilley', 'shuswap', 'FX', 'desper', 'housewif', 'diva', 'domest', 'way', 'dusk', 'snc', 'gunga', 'din', 'TJ', 'somer', 'madonna', 'offic', 'critter', 'pet', 'ben', 'byrn', 'chr', 'ack', 'sled', 'man', 'icefield', 'param', 'greg', 'diemert', 'heather', 'salon', 'sbt', 'white', 'airport', 'coyot', 'ehjid', 'cho', 'WB', 'gilou', 'carey', 'archi', 'dun', 'rite', 'sabl', 'bookmark', 'use', 'dsk', 'dragonfli', 'custodi', 'shimeng', 'page', 'boy', 'barinj', 'waterprof', 'AB', 'sweet', 'grass', 'brace', 'hubert', 'schmid', 'LB', 'western', 'wudang', 'taiji', 'america', 'garment', 'factori', 'dream', 'sterl', 'holm', 'father', 'evan', 'twist', 'drink', 'hidden', 'explor', 'xplor', 'RV', 'gallery4', 'CA', 'john', 'lyndia', 'terr', 'investor', 'ber', 'merchandi', 'silver', 'fern', 'southern', 'engin', 'crook', 'jamal', 'afco', 'royal', 'aziz', 'CY', 'powernova', 'sunni', 'stucco', 'sing', 'appl', 'gorman', 'studi', 'quizz', 'term', 'sunshin', 'coff', 'jade', 'triniti', 'korean', 'mac', 'lab', 'day', 'sheridan', 'strebor', 'kingpost', 'swissappaloosa', 'locat', 'AC', 'bula', 'TV', 'tahiti', 'treat', 'cooler', 'heaven', 'sudan', 'syndic', 'automobil', 'model', 'sunwat', 'power', 'JT', 'toddler', 'trail', 'aaa', 'BU', 'ine', 'grapevin', 'gem', 'samberito', 'westcor', 'platinum', 'wall', 'craft', 'saturna', 'lodg', 'chrysalid', 'resourc', 'full', 'trauma', 'pedestrian', 'floorex', 'in', 'bull', 'bbq', 'rancher', 'rcom', 'anchor', '1885', 'montag', 'bell', 'margo', 'wax', 'crystal', 'sp', 'AM', 'gandlaay', 'schnauzer', 'archipelago', 'archaeolog', 'suncoast', 'willow', 'cour', 'skideg', 'inlet', 'allianc', 'joneki', 'word', 'faith', 'person', 'lund', 'bro', 'mir', 'mor', 'xtreme', 'sound', 'celebr', 'birth', 'kini', 'EG', 'frame', 'thomson', 'astor', 'trendz', 'carlayn', 'podehl', 'sunam', 'alan', 'joe', 'vaupot', 'minor', 'fastpitch', 'gogh', 'breez', 'tip', 'point', 'werk', 'restyl', 'competit', 'sage', 'central', 'gate', 'sensei', 'learn', 'powerg', 'access', 'staybright', 'waska', 'DE', 'gama', 'wigard', 'sa', 'laval', 'legaci', 'delta', 'sharaf', 'ship', 'lime', 'lotu', 'enlighten', 'sojourn', 'coach', 'rocco', 'grace', 'second', 'alli', 'bioscienc', 'WA', 'deacon', 'literari', 'ann', 'jardin', 'bookshop', 'geotherm', 'faq', 'troika', 'sele', 'ocean', 'yacht', 'parellel', 'target', 'powerwash', 'RS', 'FK', 'flem', 'mose', 'kerr', 'midwiferi', 'AG', 'npc', 'gorrilla', 'gear', 'joke', 'brick', 'willborn', 'furnac', 'zena', 'redesign', 'tilburi', 'muscl', 'saga', 'golden', 'rule', 'box', 'kt', 'omax', 'financ', 'boyz', 'grillz', 'solar', 'daisi', 'GM', 'hislop', 'yellow', 'cobbleston', 'silk', 'thread', 'christma', 'yardcar', 'seppio', 'woodsid', 'handz', 'DD', 'glaze', 'boyd', 'MM', 'omw', 'vasseur', 'rubbish', 'remedi', 'euston', 'wacki', 'canuck', 'place', 'jdn', 'fabric', 'cobra', 'boundari', 'manpow', 'inspir', 'employ', 'barefoot', 'dreamer', 'card', 'canex', 'organiz', 'mvp', 'uganda', 'rural', 'fund', 'apollo', 'groom', 'calidad', 'inkstain', 'artprint', 'stanton', 'wright', 'sammi', 'LM', 'specialti', 'olli', 'lectra', 'chapter', 'nation', 'bath', 'rebecca', 'equi', 'deerfield', 'silverback', 'concept', 'alex', 'anythingplu', 'jgk', 'dem', 'cranial', 'sacral', 'cierra', 'chemic', 'emerald', 'global', 'logist', 'bluewat', 'informat', 'westcoast', 'motorcycl', 'atv', 'chef', 'ridgway', 'detienn', 'SD', 'bike', 'pistol', 'burn', 'roasteri', 'complet', 'wealth', 'synergi', 'kenney', 'paradi', 'expert', 'rehabilit', 'dynasti', 'vehicl', 'border', 'sur', 'del', 'koski', 'furneaux', 'schindler', 'artisan', 'gazebo', 'strata', 'CD', 'tummi', 'tickl', 'experi', 'choic', 'instant', 'parasol', 'bar', 'geopro', '888', 'silvercor', 'shoot', 'pepper', 'optima', 'sauc', 'marinad', 'smc', 'colour', 'coat', 'hrc', 'morgan', 'height', 'dental', 'gregori', 'aquilo', 'JR', 'cooper', 'milcraft', 'healthi', 'footcar', 'eurotech', 'jmf', 'tea', 'HE', 'victoryserv', 'swim', 'intercool', 'papa', 'georgio', 'pizza', 'oscar', 'saltwat', 'hunter', 'redneck', 'trench', 'adelco', 'dad', 'gone', 'bad', 'ware', 'modular', 'zentek', 'sequoia', 'memori', 'manu', 'forti', 'african', 'chain', 'hope', 'acch', 'fli', 'fidel', 'account', 'amaya', 'desin', 'sbc', 'garlic', 'effect', 'shantex', 'fraser', 'histor', 'innova', 'pot', 'sushi', 'can', 'asia', 'cathay', 'zoltan', 'aussi', 'land', 'FP', '1986', 'hydro', 'beer', 'brother', 'VK', 'kerri', 'ami', 'team', 'hello', 'amanda', 'kieron', 'EZ', 'geoff', 'russel', 'independ', 'opportun', 'karin', 'erin', 'friendship', 'chantal', 'brewer', 'jess', 'empow', 'murphi', 'brittani', 'solstic', 'coral', 'robertson', 'bich', 'tran', 'allah', 'paul', 'madden', 'gillian', 'adam', 'szelecz', 'jex', 'bradley', 'mani', 'sharon', 'LI', 'weber', 'jane', 'gerald', 'toni', 'wai', 'hung', 'tsang', 'laura', 'dreamweav', 'great', 'council', 'advisor', 'charleyman', 'robin', 'david', 'jillian', 'mcintosh', 'leah', 'matthew', 'miracl', 'teaghan', 'pejman', 'rezai', 'cole', 'elain', 'KL', 'cheung', 'rene', 'taryn', 'fanni', 'chong', 'erika', 'frostad', 'melissa', 'yaretz', 'journey', 'gelfer', 'mark', 'down', 'lori', 'last', 'ryan', 'ricard', 'michel', 'hoar', 'justin', 'rachel', 'jarnel', 'dulay', 'kati', 'dylan', 'garrett', 'harri', 'annett', 'clan', 'jed', 'stace', 'safe', 'KA', 'tam', 'hilton', 'caitlin', 'macdonald', 'link', 'len', 'blair', 'marilyn', 'lifestyl', 'sunn', 'noah', 'ark', 'rabind', 'today', 'austin', 'betti', 'KI', 'kwong', 'emili', 'lauren', 'polina', 'jeremiah', 'babz', 'chula', 'lifelin', 'swan', 'piero', 'jocelyn', 'advocaci', 'sam', 'piercey', 'averag', 'shauna', 'caden', 'jason', 'chang', 'doxa', 'element', 'ani', 'where', 'rancho', 'grand', 'chaco', 'chelsea', 'ashler', 'stamp', 'revamp', 'crossroad', 'grc', 'gunsl', 'sweetcret', 'kimberley', 'reflect', 'cranbrook', 'tenni', 'head', 'pdq', 'improv', 'phosfur', '50', 'minicycl', 'modif', 'kress', 'simplic', 'deb', 'lisciou', 'perri', 'wok', 'fisher', 'liciou', 'applianc', 'DB', 'flag', 'jlm', 'andrea', 'grossman', 'music', 'boot', 'strap', 'youth', 'kupuk', 'woodpeck', 'deeney', 'davidson', 'empress', 'tent', 'snipe', 'dave', 'portal', 'afford', 'autoglass', 'willi', 'weeni', 'emerg', 'medic', 'earthli', 'essenc', 'cabin', 'mari', 'lubooz', 'claypool', 'around', 'imag', 'bozz', 'hjc', 'jpl', 'micheal', 'WR', 'bishop', 'intellig', 'machin', 'legend', 'tse', 'travel', 'vaccin', 'load', 'EM', 'tape', 'revolut', 'acupunctur', 'guidanc', 'pharaoh', 'call', 'wycliff', 'discount', 'peak', 'forest', 'denni', 'clip', 'snip', 'hummel', 'cleaner', 'bullit', 'dirtyblind', 'evergreen', 'prepar', 'charm', 'quilt', 'collect', 'blarchmont', 'kashuba', 'kustom', 'cmt', 'dozer', 'NR', 'dirti', 'deed', 'biltong', 'boerewor', 'rang', 'reclam', 'song', 'snowdrift', 'kri', 'reimer', 'mogli', 'vacuum', 'bookrepair', 'put', 'root', 'frozen', 'meal', 'mcghee', 'over', 'built', 'tog', 'toy', 'fossil', 'ecosun', 'chri', 'ope', 'game', '627607', 'aboard', 'visual', 'dash', 'tnt', 'vend', 'binki', 'wet', 'sprinkler', 'bow', 'kdw', 'refrig', 'condit', 'cullum', 'movement', 'EC', 'ON', 'arleen', 'lindsay', 'septic', 'chamfer', 'maverick', 'flander', 'dynam', 'stay', 'cool', 'tint', 'walk', 'darci', 'rodney', 'molior', 'roy', 'brewbak', 'vixen', 'roger', 'C2', 'spidera', 'bootleg', 'woodcraft', 'ER', 'done', 'suppli', 'hawthorn', 'timberfram', 'RC', 'roadsid', 'artistyx', 'cancun', 'mexican', 'oak', 'maki', 'cottl', 'siewert', 'paw', 'claw', 'scratch', 'post', 'catteri', 'afri', 'skool', 'perform', 'knowledg', 'clibster', 'materi', 'mou', 'speak', 'public', 'irrig', 'tan', 'uri', 'catcher', 'transpir', 'michael', 'receiv', 'BK', '98', 'armada', 'stl', 'est', 'LA', 'vie', 'hilltop', 'road', 'rayl', 'perfer', 'preown', 'play', 'elev', 'supplier', 'door', 'insit', 'apprai', 'exhal', 'dmea', 'packrat', 'anim', 'cracker', 'six', 'scrapbook', 'reliabl', 'gutter', 'uhuru', 'shananigan', 'neuner', 'darrel', 'luke', 'fire', 'protect', 'overflow', 'herb', 'TD', 'stp', 'tork', 'lantern', 'festiv', 'ultim', 'flyfish', 'cabinetri', 'agroy', 'horizon', 'attic', 'bulkot', '7th', 'jen', 'mobil', 'munchi', 'tourism', 'pegaso', 'seller', 'kitt', 'chokecherri', 'mountainsid', 'falsework', 'gsi', 'ceec', 'h2optim', 'treatment', 'uppercut', 'rose', 'master', 'secret', 'southcountri', 'snowmobil', 'spirogyra', 'scientif', 'tri', 'EP', 'imagin', 'seawat', 'wayn', 'moritz', 'gader', 'wick', 'chan', 'granni', 'KD', 'class', 'sunri', 'robert', 'elu', 'elf', 'respon', 'capabl', 'util', 'conquer', 'boat', 'recreat', 'teasin', 'campbel', 'richard', 'matteotti', 'resteraunt', 'fm', 'romanc', 'ranch', 'dyluka', 'mapl', 'forestri', 'pelleti', 'apex', 'mountech', 'dolc', 'vida', 'arrowscap', 'lanscap', 'trunk', 'secondhand', 'wildflow', 'civil', 'grizzli', 'arbourtech', 'boardman', 'zak', 'haul', 'divi', 'district', 'justic', 'kootenaylifeenergi', 'jon', 'westgat', 'dekker', 'dyer', 'blane', 'hagn', 'rifl', 'action', 'tow', 'fritz', 'teyk', 'execut', 'della', 'pasta', 'thru', 'diner', 'westl', 'carri', 'majest', 'mustard', 'homegood', 'lunch', 'bee', 'bchristi', 'bigfoot', 'expresso', 'icecream', 'papp', 'shiver', 'sugar', 'yb', 'BD', 'masonari', 'toe', 'devin', 'wahlstrom', 'milner', 'reel', 'unreel', 'marvin', 'mcic', 'palermo', 'sonni', 'hewko', 'gold', 'PB', 'cranberri', '2007', 'pachal', 'investig', 'vike', 'self', 'hut', 'prestig', 'yuristi', 'ac', 'haworth', 'budget', 'softub', 'payrol', 'cake', 'mission', 'trish', 'wichihew', 'TY', 'col', 'cowan', 'magest', 'cozi', 'motel', 'hallgren', 'castl', 'masonri', 'daniel', 'gibb', 'greasi', 'expect', 'compo', 'pierrard', 'steven', 'wilki', 'awesometast', 'tobin', 'brian', 'elliott', 'mum', 'structur', 'quadra', 'petwerk', 'shorelin', 'lore', 'odyssey', 'discoveri', 'passag', 'encompass', 'coho', 'medal', 'chili', 'szechuan', 'hairart', 'dalat', 'dirt', 'buddi', 'clearanc', 'sandi', 'york', 'rbm', 'bobbi', 'hoe', 'ambru', 'primari', 'fwc', 'CO', 'oper', 'wang', 'chao', 'bridgeway', 'dev', 'drop', 'doctor', 'woodi', 'problem', 'heavi', 'mckim', 'outback', 'buttar', 'airmail', 'wireless', 'clay', 'counti', 'TO', 'ad', 'lfb', 'sourc', 'handymancan', 'labour', 'clement', 'posit', 'transit', 'gasp', 'carmac', 'seat', 'gumption', 'rainwear', 'akenpro', 'radiu', 'efg', 'AV', 'saf', 'helipad', 'searcher', 'northwest', 'sintco', 'canbridg', 'triplett', 'factor', 'compani', 'cga', 'ballroom', 'chrysali', 'illustri', '25investmentrul', 'corsair', 'meadowbrook', 'cut', 'ejg', 'verdur', 'look', 'vote', 'vancouv', 'springwood', 'SC', 'leuschner', 'melnyk', 'virtual', 'deal', 'thrift', 'pinnacl', 'safeti', 'dermaspa', 'GG', 'inner', 'strength', 'path', 'elli', 'sinclair', 'foothil', 'roll', 'frontier', 'corpor', 'concierg', 'jej', 'bra', 'HI', 'bebe', 'prenat', 'plerk', 'banyaro', 'translat', 'chemdri', 'diablo', 'proactiv', 'colon', 'dk', 'crabb', 'abucco', 'asd', 'bob', 'macadam', 'jdi', 'koi', 'japan', 'astat', 'cucina', 'dentalxpress', 'laboratori', 'caveman', 'omnikron', 'hutchinson', 'graysvil', 'solid', 'code', 'yardwork', 'thindal', 'jbm', 'cfi', 'dodgeb', 'jeremi', 'GB', 'lavoi', 'horticultur', 'prodiv', 'duck', 'profil', 'date', 'asian', 'cuisin', 'tisho', 'rm', 'insur', 'shake', 'shingl', 'ramco', 'stick', 'trip', 'illumin', 'beremond', 'snack', 'dabrowski', 'tecton', 'OH', 'refresh', 'myhamlet', 'croy', 'phil', 'closet', 'makeov', 'unilink', 'hal', 'june', 'machineri', 'dyck', 'eyekandykustom', 'dymond', 'impressionz', 'autowash', 'tegron', 'illsley', 'pagani', 'traco', 'imex', 'ladybug', 'amara', 'electrolysi', 'pellren', 'weston', 'transmiss', 'special', 'tactic', 'rescu', 'eden', 'powerlin', 'em', 'atm', 'colabo', 'night', 'retreat', 'fastlan', 'dsc', 'program', 'huggi', 'buggi', 'dyno', 'diagnost', 'tmm', 'firefight', 'holiday', 'exchang', 'darren', 'robinson', 'chine', 'english', 'bilingu', 'edulang', 'cardio', 'core', 'bootcamp', 'norseman', '3localbid', 'goliz', 'ana', 'arciniega', 'ajp', 'sandray', 'jbmc', 'tsawwassen', 'illumilandscap', 'bhr', 'spotlight', 'radek', 'phototech', 'lanark', 'bordertown', 'ayer', 'individu', 'edgewest', 'homestag', 'paccoast', 'creeksid', 'plc', 'GL', 'ambianc', 'ziggi', 'cement', 'genki', 'danger', 'helilog', 'accuracia', 'patrol', 'fusion', 'arka', 'jiafeng', 'jia', 'wei', 'spirit', 'hongyi', 'jobe', 'ssr', 'ohea', 'past', 'evolut', 'for', 'click', 'success', 'bhem', 'reno', 'preschool', 'start', 'coso', 'wee', 'piggi', 'burkett', 'AJ', 'husband', 'geek', 'belita', 'wave', '777', 'alb', 'ferrum', 'eleven', 'saber', 'puriti', 'rgl', 'coco', 'thhn', 'advanc', 'interlock', 'everpool', 'impress', 'crisi', 'forc', 'capit', 'mann', 'spargo', 'leo', 'beavertail', 'unicorn', 'parksvil', '3922', 'foh', 'spiritu', 'seyva', 'volunt', 'stewardship', 'leisur', 'upetha', 'formosa', 'kjcl', 'olivotto', 'cheddar', 'kayak', 'tiptop', 'supermart', 'uib', 'alumni', 'ackeri', 'GV', 'omnip', 'pillar', 'koda', 'autopart', 'weight', 'loss', 'ccd', 'trio', 'chamber', 'ensembl', 'DR', 'helen', 'bertrand', 'yung', 'FU', 'suna', 'diadem', 'artcal', 'millwork', 'tropic', 'round', 'cyprex', 'hee', 'ihn', 'kim', 'vanessa', 'rae', 'tigalo', 'flame', 'chicken', 'massah', 'shore', 'dolphin', 'ecorusoul', 'cultur', 'ristor', 'valu', 'nke', 'frango', 'otti', 'kook', 'taekwondo', 'encount', 'canakiwi', 'networth', 'foxi', 'foodi', 'tracer', 'worth', 'syntech', 'lauru', 'weldon', 'clearbay', 'aggreg', 'wow', 'uvc', 'shield', 'amicitia', 'highland', 'callibaeti', 'avenu', 'relat', 'lan', 'enviro', 'architext', 'lookout', 'buffalo', 'hellbilli', 'mjm', 'quesnel', 'abl', 'fireplac', 'seaforth', 'kramer', 'gao', 'filko', 'marbl', 'granit', 'payless', 'heena', 'dreamlab', 'wrh', 'replac', 'mighti', 'ascah', 'deco', 'china', 'woodhou', 'mongoo', 'enhanc', 'NU', 'rah', 'evalu', 'assess', 'edg', 'dal', 'survey', 'JS', 'msm', 'refinish', 'rnz', 'jmj', 'GP', 'dale', 'sexsmith', 'portabl', 'brycan', 'hanchood', 'achiev', 'arann', 'assist', '24', '7', 'sew', 'JK', 'grizz', 'jenson', 'casual', 'men', 'wheatley', 'BG', 'monster', 'randi', 'dawson', 'izzi', 'bouquet', 'baggag', 'handl', 'frog', 'reman', 'consortium', 'dosilak', 'cander', 'stampalici', 'barri', 'stroud', 'alofii', 'leprieur', 'oh', 'cream', 'mare', 'contin', 'cowichan', 'slo', 'pitch', 'papago', 'tnl', 'feloni', 'appeal', 'camco', 'georg', 'lawlor', 'TB', 'wire', 'hillbilli', 'elfrieda', 'town', 'pride', 'mojm', 'dupat', 'acodi', 'georgia', 'agc', 'polish', 'sculli', 'cheryl', 'peebl', 'deeper', 'longer', 'poignant', 'lloyd', 'johann', 'slam', 'tire', 'gemn', 'shabumi', 'jusan', 'judi', 'frostbit', 'KE', 'loader', 'JM', 'stuctewsemc', 'elder', 'advisori', 'rattlesnak', 'dbx', 'talesynergi', 'spenc', 'bridg', 'eighti', '6', 'roadhou', 'bonapart', 'wingnut', 'borough', 'cowboyz', 'iskcon', 'saranagati', 'horst', 'rocksavag', 'pukaist', 'redevelop', 'krishna', 'consciou', 'sarangati', 'doorway', 'beech', 'antiqu', 'celestin', 'mole', 'perpetuum', 'sawa', 'sjh', 'montessori', 'susan', 'licenc', 'thrill', 'OF', 'mail', 'stu', 'DI', 'jeff', 'jeani', 'OW', 'hlf', 'VI', '360', 'xentech', 'snb', 'comox', 'carpent', 'ant', 'societ', 'ell', 'botan', 'prodct', 'theproudestmonkey', 'rainforest', 'guesthou', 'mzz', 'fix', 'derek', 'craig', 'residenti', 'calib', 'astrolog', 'latin', 'american', 'societi', 'laksakla', 'TS', 'curb', 'metamorphosi', 'ablaz', 'metalart', 'leticia', 'rpw', 'daxgat', 'inhl', 'goodin', 'anti', 'poverti', 'sansar', 'carlton', 'tarr', 'ultra', 'up', 'ksm', 'stonewood', 'usa', 'beautiqu', 'hairstudio', 'sanctuari', 'sure', 'LL', 'bring', 'honey', 'ion', 'everyday', 'adasa', 'sibayan', 'abdel', 'lampitoc', 'mag', 'laird', 'essenti', 'sicilian', 'donair', 'falafel', 'perfect', 'fairview', 'bmor', 'gerri', 'groen', 'wit', 'end', 'loci', 'MP', 'caymu', 'adco', 'lampa', 'technoshack', '15w40', 'behren', 'DW', 'thompson', 'LE', 'howel', 'greenleaf', 'gulizeeba', 'backpack', 'powel', 'velvet', 'volo', 'xinger', 'cherish', 'fit2sit', 'ergonom', 'jamona', 'vata', 'GF', 'heritag', '3', 'main', 'piccolissimo', 'kin', 'chung', 'png', 'finest', 'dimen', 'quintasket', 'emerson', 'trucut', 'besway', 'demolit', 'cheeki', 'penguin', 'websit', 'S3', 'CJ', 'eleventh', 'skr', 'pci', 'export', 'stonework', 'extrem', 'print', 'cool2sanit', 'hamilton', 'bailong', 'internaton', 'villiag', 'motorsport', 'howatt', 'tonka', 'jp', 'mdm', 'crui', 'labiz', 'tim', 'odd', 'gentl', 'human', 'wildlif', 'CV', 'inflow', 'crazi', 'monkey', 'cmw', 'krikey', 'eflea', 'petcar', 'dark', 'nrg', 'cinderella', 'diaper', 'vibrat', 'gould', 'grasshopp', 'OZ', 'musto', 'wild', 'hornbi', 'scooter', 'whitelaw', 'surfin', 'taco', 'insid', 'ladi', 'lavish', 'robyn', 'lotteri', 'saw', 'safari', 'kmt', 'JJ', 'nativ', 'seed', 'seamor', 'phase', 'net', 'brisson', 'forcier', 'scale', 'flurer', 'smokeri', 'payment', 'tek', 'aspir', 'autom', '2', 'PT', 'bamboo', 'luu', 'sahara', 'currenc', 'stanley', 'atlanta', 'huston', 'pamson', 'ahm', 'PR', 'tucker', 'screamin', 'mimi', 'hwy33', 'basalt', 'mine', 'bartel', 'bhanot', 'send', 'stuff', 'jabk', 'amer', 'allen', 'greenhou', 'preciou', 'taf', 'lami', 'ta', 'countertop', 'gilan', 'steamwork', 'prime', 'EL', 'shaddai', 'child', 'mgw', 'aluminum', 'scarlet', 'ibi', 'edmund', 'selina', 'morong', 'pavan', 'SN', 'raj', 'GR', 'csk', 'aleet', 'graffix', 'marion', 'con', 'taz', 'tex', 'mccloy', 'lme', 'vic', 'host', 'gibson', 'liloet', 'malaspina', 'sail', 'stoneriv', 'advi', 'brackett', 'resort', 'paintbal', 'upland', 'cove', 'sechelt', 'davi', 'winsom', 'ken', 'write', 'swift', 'ekstasi', 'elllingham', 'commtech', 'insight', 'stewart', 'greenray', 'kj', 'direct', 'inspirit', 'beework', 'oceansid', 'smardon', 'esso', 'restorx', 'flood', 'sileston', 'everyth', 'quiltmak', 'victorian', 'recoveri', 'hong', 'kong', 'realism', 'sander', 'eva', 'graphicsplu', 'TR', 'maplewood', 'centrepoint', 'shaper', 'AP', 'heron', 'tower', 'escap', 'rick', 'dixon', 'pipin', 'cyberdyn', 'streak', 'xlr8d', 'BO', 'eggsquisit', 'tast', 'medispa', 'instinct', 'rj', 'gill', 'halfmoon', '57', 'thee', 'hood', 'aaron', 'brodi', 'present', 'EJ', 'document', 'snowbal', 'dish', 'whisper', 'roller', 'beacon', 'furnish', 'jpd', 'dogpatch', 'phat', 'kat', 'mcphail', 'maptomovi', 'CH', 'tide', 'bedrock', 'painter', 'kihiw', 'salamand', 'mold', 'woman', 'MB', 'dancetrax', 'front', 'porch', 'doug', 'krau', 'TK', 'NO', 'pal', 'parcher', 'davidjam', 'artsi', 'fartsi', 'loren', 'eve', 'mill', 'worri', 'gibvey', 'empyrean', 'raven', 'winemak', 'quest', 'zen', 'keep', 'upper', 'crust', 'manjari', 'shakti', 'totem', 'medicin', 'wide', 'homecar', 'thunderbolt', 'know', 'dirtbik', 'rage', 'rey', 'reyna', 'meridian', 'sita', 'fractal', 'fleme', 'transluc', 'film', 'video', 'morn', 'newlett', 'lallybug', 'quarter', 'gardner', 'pinfold', 'nygaard', 'IN', 'spec', 'cabana', 'hardwood', 'gratitud', 'boyc', 'sherlock', 'halcyon', 'puremot', 'mind', 'mama', 'weavewood', 'hook', 'silvey', 'cbth', 'RA', 'nrp', 'lodestar', 'holmesl', 'tyex', 'finelin', 'etiquett', 'mtb', 'voic', '5', 'summerhil', 'kcj', 'patterson', 'empir', 'thank', 'embellish', 'christian', 'librari', 'outreach', 'tanglewood', 'tec', 'ryde', 'panic', 'ruff', 'potter', 'swiss', 'abet', 'tilli', 'galley', 'alway', 'fandango', 'thai', 'porter', 'part', 'back', 'nine', 'ninefour', '94', 'seawal', 'sodbust', 'smile', 'ME', 'prf', 'moonri', 'azenya', 'protech', 'pearl', 'dni', 'echo', 'audiolog', 'pawprint', 'clari', 'handcraft', 'herbal', 'marian', 'ascent', 'perfum', 'MT', 'boss', 'mmm', 'clearwat', 'reed', 'accommod', 'a1a', 'kasan', 'mccarthi', 'metaltech', 'soup', 'storey', 'welcom', 'abel', 'edgar', 'HC', 'rain', 'barbershop', 'gel', 'ou', 'nailz', 'savi', 'hatheril', 'peac', 'grimm', 'hemp', 'dillon', 'tymax', 'hauer', 'magazin', 'carlberg', 'varney', 'amilia', 'flap', 'showhom', 'reetz', 'alpin', 'huckleberri', 'eastley', 'aircraft', 'hack', 'hwi', '101', 'stubb', 'gsl', 'lucid', 'karen', 'bozak', 'teach', 'tmj', 'orcateck', 'skookum', 'greenbridg', 'benchland', 'cam', 'forrest', 'strait', 'lemonad', 'boatwork', 'kohuch', 'escendo', 'gaia', 'fair', 'aquaflow', 'how', 'dmsm', 'mermaid', 'doak', 'jmac', 'cree', 'hunnisett', 'verac', 'rotari', 'stardust', 'hide', 'away', 'munif', 'metro', 'amalgam', 'remot', 'morf', 'pega', 'brar', 'swissa', 'mai', 'jer', 'tyme', 'siad', 'devenish', 'discov', 'tahsi', 'peng', 'WU', 'honeya', 'fastfood', 'sara', 'textil', 'bharat', 'golestan', 'SZ', 'anselmo', 'excit', 'amar', 'karam', 'JG', 'kwick', 'pick', 'blc', 'aah', 'contain', '36', 'primo', 'salo', 'bcu', 'hhh', 'sonrisa', 'gloria', 'silvacret', '20', 'jamilda', 'chasal', 'kinkela', 'abba', 'juan', 'rio', 'four', 'eben', 'ezer', 'francisco', 'bailli', 'zubyk', 'rattl', 'babi', 'YI', 'cheng', 'sen', 'HO', 'dressmak', 'dunfield', 'tara', 'marmar', 'flex', 'castillo', 'bruno', 'jahan', 'plateau', 'rustic', 'crespo', 'shark', 'taper', 'tenathma', 'nan', 'NA', 'lu', 'etana', 'kima', 'flower', 'tahltan', 'tonza', 'juli', 'ursu', 'outdoor', 'babin', 'whitey', 'dsb', 'lewi', 'miller', 'equissag', 'wonder', 'priestli', 'cattl', 'likkel', 'tapadera', 'aborigin', 'wholes', 'wildwood', 'bibl', 'lonewolf', 'playhou', 'rocker', 'occa', 'deschen', 'hanson', 'noreen', 'pine', 'cougar', 'sparkxx', 'windshield', 'tanta', 'lina', 'dispo', 'rynet', 'anyway', 'bansh', 'MI', 'clearview', 'pleskimo', 'jacquelin', 'fast', 'nasti', 'forb', 'epsilon', 'stylecraft', 'yak', 'kgb', 'mega', 'mickey', 'petkau', 'jimmi', 'yellowhead', 'brinor', 'pin', 'dreamlin', 'econom', 'duncan', 'brandi', 'creat', 'rich', 'retail', 'tribal', 'paddl', 'niiwookkeyaa', 'dri', 'forev', 'bulkley', 'silvermist', 'skeena', 'watersh', 'conserv', 'hazelton', 'wolverin', 'hockey', 'poplar', 'larilo', 'bto', 'stockmen', 'lorn', 'spooner', 'junip', 'flat', 'rate', 'kermod', 'speedi', 'hunt', 'ashcroft', 'opera', 'jacqu', 'revel', 'fischer', 'hay', 'arrow', 'kelley', 'amala', 'widow', 'feed', 'trough', 'tal', 'kwb', 'task', 'loon', 'fab', 'basic', 'lodestrik', 'LP', 'mower', 'dejh', 'fixal', 'kdm', 'kestrel', 'vayven', 'punjabi', 'sidewalk', 'moneyla', 'xpress', 'cycomm', 'lakeview', 'blackwat', 'absolut', 'doherti', 'cr', 'plane', 'far', 'anmol', 'namasta', 'bacabon', 'hotori', 'ag47', 'mexi', 'east', 'measur', 'DM', 'tomic', 'lace', 'ness', 'maureen', 'maja', 'rodica', 'rafter', 'froe', 'wind', 'brain', 'injuri', 'eat', 'elmquist', 'pass', 'LD', 'type', 'lakefront', 'nedoat', 'hereditari', 'chief', 'tabor', 'RL', 'stack', 'knc', 'asher', 'mayn', 'ziler', 'lmb', 'gypsi', 'tabl', 'martel', 'auriga', 'dvn', 'sissym', 'acupoint', 'vernon', 'wilder', 'polytex', 'nechako', 'slow', 'brent', 'stringer', 'casey', 'furnitur', 'giant', 'qball', 'krg', 'diversifi', 'saddl', 'chiropract', 'quad', 'chardon', 'sundbi', 'philip', 'zacharia', 'nooski', 'ndn', 'rosi', '0506', 'crash', 'burban', 'signatur', 'vanderhoof', 'turn', 'skill', 'summit', 'sunset', 'bonsai', 'run', 'wolf', 'kidz', 'inspiratek', 'bodimag', 'avedyn', 'holist', 'masteri', 'computrend', 'wanab', 'MG', 'testawich', 'RT', 'victoria', 'railway', 'mystic', 'jag', 'maison', 'stickleback', 'dogz', 'presidium', 'fallout', 'klipila', 'starfish', 'bistro', 'quantum', 'rest', 'assur', 'respit', 'meadow', 'retro', 'prospect', 'granbi', 'ecoheritag', 'elkhorn', 'break', 'pane', 'mirror', 'earli', 'year', 'beyond', 'sider', 'alaythia', 'josi', 'jagger', 'isleworth', 'reserv', 'cascadia', 'mali', 'jenpar', 'terra', 'manifest', 'barwood', 'mactiv', 'fuel', 'saver', 'von', 'dutch', 'divin', 'rgc', 'stitch', 'optim', 'esellut', 'jmg', 'packag', 'flatearth', 'impact', 'upon', 'tempo', 'sadler', 'granboi', 'caregiv', 'eagel', 'gslee', 'allegi', 'cbj', 'season', 'pharmaci', 'jlp', 'grade', 'oddbal', 'GD', 'canroc', 'montagna', 'advic', 'waypoint', 'odc', 'perci', 'zrnicaru', 'reher', 'mouth', 'embroideri', 'boonen', 'maxwel', 'area', '666', 'electro', 'lk', 'stud', 'norburg', 'veit', 'goaltend', 'instruct', 'fluid', 'mentor', 'seri', 'jlh', 'kaizen', 'semper', 'octagon', 'circa', 'cloverd', 'hofer', 'WL', 'influx', 'beatrix', 'ma', 'oyama', 'kyokushin', 'karat', '3element', 'clayton', 'bridal', 'terravag', 'strateg', 'kit', 'pacificmarbl', 'bene', 'kang', 'IV', 'exit', 'JN', 'canata', 'aristotl', 'veloc', 'biscotti', 'ossi', 'panduro', 'gardenia', 'dc', 'darwin', 'cabrera', 'jcv', 'tayrona', 'condor', 'guarani', 'smarton', 'idl', 'KG', 'nicki', 'escudero', 'aguib', 'aca', 'monarch', 'rooter', 'sewag', 'pump', 'hound', 'mouser', 'riversid', 'nik', 'nak', 'creston', 'ridgelin', 'fasten', 'and', 'riverview', 'blacktail', 'soapwork', 'sorenson', 'roman', 'pyro', 'jalyn', 'sutcliff', 'vista', 'cherri', 'grower', 'penner', 'doyl', 'lumber', 'galsko', 'sunk', 'yourmudd', 'concert', 'VJ', 'DS', 'gospel', 'fellowship', 'silverock', 'camel', 'milton', 'sheppard', 'retrorigin', 'idea', 'press', 'nazcam', 'playin', 'buy', 'stellar', 'drayag', 'duct', 'soccer', 'riteway', 'traxx', 'nightclub', 'malibu', 'dart', 'gram', 'keldsen', 'iceberg', 'maria', 'capelo', 'client', 'hebert', 'refac', 'dynastar', 'daybreak', 'rdt', 'ari', 'skate', 'jsmit', 'enerco', 'what', 'scoop', 'traci', 'rehab', 'dasilva', 'cinnamon', 'hornet', 'rockheight', 'pond', 'watersport', 'hordal', 'getaway', 'margita', 'pedi', 'wagon', 'fabbi', 'proform', 'dutchman', 'brat', 'princeton', 'stitcheri', 'peach', 'lpburbidg', 'brokerag', 'kettl', 'kcm', 'deep', 'similkameen', 'worrenberg', 'juic', 'cidr', 'keremeo', 'petit', 'enfanc', 'ecol', 'entr', 'lac', 'nemco', 'peel', 'let', 'mow', 'lawncar', 'km', 'linton', 'beachwear', 'bare', 'bulldog', 'paulin', 'valentini', 'purr', 'fect', 'sit', 'gamerz', 'houseboat', 'yorkshir', 'ronin', 'springer', 'gymnast', 'ranchtot', 'cutter', 'polypha', 'option', 'apexoo', 'short', 'stori', 'dili', 'thew', 'rcv', 'kaleden', 'vital', 'upright', 'bite', 'delight', 'pastri', 'etc', 'cook', 'sjc', 'nomad', 'TE', 'remodel', 'navig', 'ferni', 'OP', 'ralph', 'beaver', 'sissonscrochet4u', 'cariboo', 'powderpuff', 'daili', 'grind', 'we', 'cover', 'polyfact', 'zilinski', 'broom', 'extracurricular', 'birthwi', 'prostar', 'histori', 'aquatica', 'open', 'dunkin', 'harvest', 'dancewear', 'affair', 'chemainu', 'isl', 'pour', 'figur', 'godard', 'hen', 'all', 'shelter', 'phili', 'brulyn', 'somm', 'stuf', 'teddi', 'junction', 'depend', 'kenoman', 'ST', 'regi', 'modal', 'beecher', 'proshika', 'lock', 'nagi', 'artifici', 'genesi', 'facil', 'renew', 'vincelli', 'lower', 'PK', 'ozzi', 'calliop', 'glasswork', 'closer', 'stream', 'screen', 'tof', 'henri', 'vanoni', 'caff', 'sternwheel', 'leyh', 'plum', 'heber', 'crawford', 'kogon', 'johnston', 'runner', 'map', 'lighthou', 'harringa', 'ttm', 'jiahua', 'maggi', 'bryan', 'BH', 'insignia', 'sightek', 'rawli', 'sharp', 'sharpen', 'ducharm', 'KB', 'nikki', 'marcar', 'kabin', 'keeper', 'lone', 'scent', 'simpl', 'fellow', 'vondi', 'bon', 'voyag', 'cheyenn', 'interlok', 'pavingston', 'linwood', 'derbi', 'borzak', 'mtn', 'envirod', 'nadan', 'nessi', 'chancey', 'tender', 'jessica', 'bottl', 'selkirk', 'feral', 'kitti', 'pierc', 'kootenai', 'messag', 'jual', 'MW', 'apart', 'moor', 'sct', 'AL', 'staub', 'wendi', 'whirlwind', 'egg', 'UZ', 'dollar', '133', 'bahama', 'mel', 'onlin', 'finnish', 'ing', 'earthsmart', 'bush', 'lega', 'swityk', 'afterschool', 'tappen', 'easi', 'math', 'staci', 'genpac', 'perimet', 'SL', 'shalanna', 'scrap', 'NH', 'rampton', 'rockwork', 'procomp', 'nick', 'dewdrop', 'castro', 'lamco', 'corrado', 'clad', 'flash', 'bruschetto', 'csi', 'jeryn', 'kumugw', 'kristin', 'monash', 'blantyr', 'hardisti', 'brigad', 'foxtrot', 'risk', 'rork', 'check', 'intim', 'awen', 'imagework', 'cynbad', 'bft', 'muffler', 'rcj', 'martini', 'shear', 'jeanneou', 'cardin', 'reincarn', 'duan', 'landwork', 'cc', 'tlh', 'shappen', 'christina', 'cach', 'kucher', 'PD', 'hepat', 'depot', 'institut', 'bio']\n"
     ]
    }
   ],
   "source": [
    "words = list(word2vec_model.wv.vocab)\n",
    "print(words)"
   ]
  },
  {
   "cell_type": "code",
   "execution_count": 30,
   "metadata": {},
   "outputs": [
    {
     "name": "stderr",
     "output_type": "stream",
     "text": [
      "C:\\Users\\arturo.reyeslopez\\AppData\\Local\\Continuum\\anaconda3\\lib\\site-packages\\ipykernel_launcher.py:6: DeprecationWarning: Call to deprecated `similar_by_word` (Method will be removed in 4.0.0, use self.wv.similar_by_word() instead).\n",
      "  \n",
      "C:\\Users\\arturo.reyeslopez\\AppData\\Local\\Continuum\\anaconda3\\lib\\site-packages\\ipykernel_launcher.py:8: DeprecationWarning: Call to deprecated `__getitem__` (Method will be removed in 4.0.0, use self.wv.__getitem__() instead).\n",
      "  \n",
      "C:\\Users\\arturo.reyeslopez\\AppData\\Local\\Continuum\\anaconda3\\lib\\site-packages\\ipykernel_launcher.py:10: DeprecationWarning: Call to deprecated `__getitem__` (Method will be removed in 4.0.0, use self.wv.__getitem__() instead).\n",
      "  # Remove the CWD from sys.path while we load stuff.\n"
     ]
    },
    {
     "data": {
      "image/png": "[encoded data removed]",
      "text/plain": [
       "<Figure size 432x288 with 1 Axes>"
      ]
     },
     "metadata": {
      "needs_background": "light"
     },
     "output_type": "display_data"
    }
   ],
   "source": [
    "display_closestwords_tsnescatterplot(word2vec_model, 'bio', 300)\n"
   ]
  }
 ],
 "metadata": {
  "kernelspec": {
   "display_name": "Python 3",
   "language": "python",
   "name": "python3"
  },
  "language_info": {
   "codemirror_mode": {
    "name": "ipython",
    "version": 3
   },
   "file_extension": ".py",
   "mimetype": "text/x-python",
   "name": "python",
   "nbconvert_exporter": "python",
   "pygments_lexer": "ipython3",
   "version": "3.7.3"
  }
 },
 "nbformat": 4,
 "nbformat_minor": 2
}
